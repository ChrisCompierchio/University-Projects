{
 "cells": [
  {
   "cell_type": "markdown",
   "metadata": {},
   "source": [
    "## Instructions: Run this code to produce they file simulated_data.csv. You don't need to read or understand this code. If you can't make the data file just email me and I will send you one."
   ]
  },
  {
   "cell_type": "code",
   "execution_count": 1,
   "metadata": {},
   "outputs": [],
   "source": [
    "import numpy\n",
    "from matplotlib import pyplot\n",
    "import pandas"
   ]
  },
  {
   "cell_type": "code",
   "execution_count": 2,
   "metadata": {},
   "outputs": [],
   "source": [
    "filename = 'base_data.csv'\n",
    "data = pandas.read_csv(filename)"
   ]
  },
  {
   "cell_type": "code",
   "execution_count": 3,
   "metadata": {},
   "outputs": [],
   "source": [
    "# The code below lets you create a simulated data set:\n",
    "# replace the id nubmer with the last 4 digits of your student number\n",
    "id_number = 7809\n",
    "numpy.random.seed(id_number) \n",
    "numpy.random.random(len(data['m_max']))\n",
    "data['m_max'] = data['m_max']+float(str(id_number)[0])*numpy.random.random(len(data['m_max']))\n",
    "data = data.round(2)"
   ]
  },
  {
   "cell_type": "code",
   "execution_count": 4,
   "metadata": {},
   "outputs": [],
   "source": [
    "data.to_csv('simulated_data.csv')"
   ]
  },
  {
   "cell_type": "code",
   "execution_count": 5,
   "metadata": {},
   "outputs": [
    {
     "data": {
      "text/plain": [
       "[<matplotlib.lines.Line2D at 0x1cf68910880>]"
      ]
     },
     "execution_count": 5,
     "metadata": {},
     "output_type": "execute_result"
    },
    {
     "data": {
      "image/png": "[encoded data removed]",
      "text/plain": [
       "<Figure size 432x288 with 1 Axes>"
      ]
     },
     "metadata": {
      "needs_background": "light"
     },
     "output_type": "display_data"
    }
   ],
   "source": [
    "x, y = numpy.loadtxt('simulated_data.csv', skiprows = 1, usecols = range(1,3), delimiter = ',', unpack = True)\n",
    "\n",
    "v = (numpy.e**x)\n",
    "d = (10**((y+19.5+5)/5))/1000000\n",
    "\n",
    "pyplot.scatter(d,v)\n",
    "pyplot.ylabel(\"velocity (km/s)\")\n",
    "pyplot.xlabel(\"Distance (Mpc)\")\n",
    "pyplot.title(\"Hubble Diagram\")\n",
    "\n",
    "m,b = numpy.polyfit(d,v,1)\n",
    "pyplot.plot(d, m*d + b)"
   ]
  },
  {
   "cell_type": "code",
   "execution_count": 6,
   "metadata": {},
   "outputs": [
    {
     "name": "stdout",
     "output_type": "stream",
     "text": [
      "-0.00021962195228312869\n"
     ]
    }
   ],
   "source": [
    "H0 = m\n",
    "\n",
    "print(H0)"
   ]
  },
  {
   "cell_type": "code",
   "execution_count": null,
   "metadata": {},
   "outputs": [],
   "source": []
  }
 ],
 "metadata": {
  "kernelspec": {
   "display_name": "Python 3",
   "language": "python",
   "name": "python3"
  },
  "language_info": {
   "codemirror_mode": {
    "name": "ipython",
    "version": 3
   },
   "file_extension": ".py",
   "mimetype": "text/x-python",
   "name": "python",
   "nbconvert_exporter": "python",
   "pygments_lexer": "ipython3",
   "version": "3.8.3"
  }
 },
 "nbformat": 4,
 "nbformat_minor": 4
}
