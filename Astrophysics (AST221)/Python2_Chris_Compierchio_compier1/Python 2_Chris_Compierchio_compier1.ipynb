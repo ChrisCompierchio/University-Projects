{
 "cells": [
  {
   "cell_type": "markdown",
   "metadata": {},
   "source": [
    "## FILL IN YOUR NAME AND UTORID HERE\n",
    "\n",
    "Python Assignment 2: Orbital motion \n",
    "==========================================================\n",
    "\n",
    "## Before you begin\n",
    "\n",
    "Assuming you have loaded this file into your Jupyter Notebooks workspace, make sure to press the \"play\" button at the top of the page in each box. This will render the Markdown into nicely-formatted text and execute all of the sections of Python code. Note that some sections will give error messages until you add the calculations you are asked for. \n",
    "\n",
    "## Introduction\n",
    "\n",
    "In class we have been discussing gravitation and the orbits of planets around the Sun. In this python notebook you will show how a planet's orbital speed changes over the course of its orbit, for circular orbits and for elliptical orbits. \n",
    "\n",
    "For this assignment, it will be useful to remind yourself of C&O sections 2.2 and 2.3. \n",
    "\n",
    "As you modify each of the following segments of code, remember to hit the \"play\" button at the top of the notebooks interface so that the cell containing the code \"runs\" (you can also hit Shift+Return for the same functionality). It should display the output of the piece of code just below that cell. You can run every cell in this notebook before you modify it, just to see what it produces. If you find any of this confusing or overwhelming, please refer back to the programming resources in the \"Guides\" section on Quercus. The \"Introduction to Programming\" guide contains links to some documents that should help you."
   ]
  },
  {
   "cell_type": "code",
   "execution_count": 1,
   "metadata": {},
   "outputs": [],
   "source": [
    "# Here we will import the usual libraries\n",
    "import numpy as np\n",
    "import matplotlib.pyplot as plt\n",
    "import matplotlib\n",
    "%matplotlib inline\n",
    "\n",
    "# Here we are adding a couple new libraries. These are extremely useful for keeping track of \n",
    "# units and constants! \n",
    "# Remember that when we import a library as 'x', we can then call all that library's functions by x.function()\n",
    "from astropy import units as u\n",
    "from astropy import constants as c"
   ]
  },
  {
   "cell_type": "markdown",
   "metadata": {},
   "source": [
    "## Using the astropy libraries to track constants and units ##\n",
    "Below is some simple code showing you how to use the astropy.units and astropy.constants libraries to better keep track of your calculations. In both coding and problem sets, if you get a result that seems off, check your units! \n",
    "\n",
    "For more information on astropy units, check out the [documentation](https://docs.astropy.org/en/stable/units/). "
   ]
  },
  {
   "cell_type": "code",
   "execution_count": 2,
   "metadata": {},
   "outputs": [
    {
     "data": {
      "text/latex": [
       "$925 \\; \\mathrm{\\frac{km\\,s}{h}}$"
      ],
      "text/plain": [
       "<Quantity 925. km s / h>"
      ]
     },
     "execution_count": 2,
     "metadata": {},
     "output_type": "execute_result"
    }
   ],
   "source": [
    "# Play around with this to see how units work!\n",
    "# Simple calculation - constant motion in a straight line\n",
    "\n",
    "# Set a speed:\n",
    "v = 25. *u.km/u.hour\n",
    "# Set a time:\n",
    "t = 37 * u.s\n",
    "# Calculate distance traveled:\n",
    "d = v * t\n",
    "d"
   ]
  },
  {
   "cell_type": "code",
   "execution_count": 3,
   "metadata": {},
   "outputs": [
    {
     "data": {
      "text/latex": [
       "$0.25694444 \\; \\mathrm{km}$"
      ],
      "text/plain": [
       "<Quantity 0.25694444 km>"
      ]
     },
     "execution_count": 3,
     "metadata": {},
     "output_type": "execute_result"
    }
   ],
   "source": [
    "# Well that's not so useful! You can see that we have two units of time in the result. \n",
    "# Try this:\n",
    "d.to(u.km)"
   ]
  },
  {
   "cell_type": "code",
   "execution_count": 4,
   "metadata": {},
   "outputs": [
    {
     "name": "stdout",
     "output_type": "stream",
     "text": [
      "My value for d without specifying units is 925.0\n",
      "My value for d in units of km is 0.2569444444444444\n",
      "My value for d in units of au is 1.7175675244717535e-09\n"
     ]
    }
   ],
   "source": [
    "# You can also simply output the value of the result, but be sure to specify your desired unit or your answer\n",
    "# may be nonsensical\n",
    "print('My value for d without specifying units is {0}'.format(d.value))\n",
    "print('My value for d in units of km is {0}'.format(d.to(u.km).value))\n",
    "print('My value for d in units of au is {0}'.format(d.to(u.au).value))\n",
    "\n",
    "# Also this is way too many sig figs. Below I will include an example of formatted output.  "
   ]
  },
  {
   "cell_type": "markdown",
   "metadata": {},
   "source": [
    "## Setting up the problem ##\n",
    "\n",
    "There are a number of parameters that are needed to fully describe the motion of a planet around a star, or of two stars orbiting a common centre of mass. Avoiding the effects of orbital inclination and tilt, they are:\n",
    "- the semi-major axis $a$\n",
    "- the eccentricity $e$\n",
    "- the masses of the objects $m_1$ and $m_2$, or the mass of the star $M$ if $M >> m$\n",
    "- the period of the orbit $P$\n",
    "\n",
    "From these, we can calculate the distance $r$ of the planet from the star, and the orbital velocity $v$. \n",
    "\n",
    "Use the next block to set up your orbital parameters. To start, we will look at the orbit of an Earth-like planet in an Earth-like orbit around a star with the same mass as the Sun. "
   ]
  },
  {
   "cell_type": "code",
   "execution_count": 5,
   "metadata": {},
   "outputs": [],
   "source": [
    "## Question 1: Modify the code below to set up the problem as described above. Use the parameters for Earth's orbit. \n",
    "p = (365.26)*u.day   # Use astropy units library to keep things nice\n",
    "a = 1.0*u.au     # \n",
    "e = 0.0167       # remember e has no units\n",
    "M = 1.0*u.Msun   # Mass of the star\n",
    "m = 1.0*u.Mearth # Mass of the planet"
   ]
  },
  {
   "cell_type": "markdown",
   "metadata": {},
   "source": [
    "## Calculating r and v\n",
    "\n",
    "When we assume that the orbit is circular, the distance from the planet to the star, and its orbital speed, remain constant. Here, we want to plot how the distance from the planet to the star, and the orbital speed, change over the course of the planet's orbit in the elliptical case. \n",
    "\n",
    "You will want to recall two equations:\n",
    "\n",
    "$r = \\frac{a(1-e^2)}{1 + e\\mathrm{cos}\\theta}$  \n",
    "\n",
    "$v = \\sqrt{GM (2/r - 1/a)}$\n",
    "\n",
    "You can see from C&O 2.3 that this solution for $v$ is for the motion of the centre of mass of a two body system, and the above relationship holds when $M >> m$. \n",
    "\n",
    "Refer to Figure 2.4 in C&O to remind yourself that $\\theta$ is the angle that describes the planet's position in its orbit, measured counterclockwise from the major axis of the ellipse. To plot $r$ and $v$, we need $\\theta$.  "
   ]
  },
  {
   "cell_type": "code",
   "execution_count": 6,
   "metadata": {},
   "outputs": [
    {
     "data": {
      "text/latex": [
       "$[0,~0.21666155,~0.4333231,~0.64998466,~0.86664621] \\; \\mathrm{rad}$"
      ],
      "text/plain": [
       "<Quantity [0.        , 0.21666155, 0.4333231 , 0.64998466, 0.86664621] rad>"
      ]
     },
     "execution_count": 6,
     "metadata": {},
     "output_type": "execute_result"
    }
   ],
   "source": [
    "## QUESTION 2: Create an array for theta in radians that will allow us to plot r and v over \n",
    "# *the entire orbit*. \n",
    "# We are using the np.linspace function, where:\n",
    "# array = np.linspace(start_value, stop_value, number of steps)\n",
    "# This will create an array of values between your start and stop value, evenly spaced with an interval between \n",
    "# values that depends on the number of steps you choose. \n",
    "# Replace these values the start and stop values you would need to plot a full orbit. \n",
    "# The number of steps to use is up to you; if your plots below are choppy you may want to go back and increase the number. \n",
    "\n",
    "theta_rad = np.linspace(0, 6.283185, 30)*u.rad\n",
    "\n",
    "# Print out the first few numbers:\n",
    "theta_rad[0:5]"
   ]
  },
  {
   "cell_type": "code",
   "execution_count": 7,
   "metadata": {},
   "outputs": [
    {
     "name": "stdout",
     "output_type": "stream",
     "text": [
      "At r = 0.9833 AU, the velocity of the planet is 30.29 km / s\n"
     ]
    }
   ],
   "source": [
    "## QUESTION 3: Write out code that will calculate r and v following the above equations, using your theta_rad array. \n",
    "# Remember that you can do calculations with arrays the same way you can do calculations with single numbers!\n",
    "# Use the variables a, e, M, etc. from above in your calculation, as we did in the simple\n",
    "# distance calculation above. \n",
    "# You divide with the '/' symbol, multiply with '*'. Use brackets to ensure the math is done in the correct order!\n",
    "# In python, power laws are calculated via x**2. \n",
    "# You can use np.cos(x) for cosine (assuming x is in radians), and np.sqrt(x) for square roots. \n",
    "# You can also do roots via power laws, like (x)**(1/2.), as an example. \n",
    "\n",
    "r = (a*(1-e**2))/(1+e*(np.cos(theta_rad)))\n",
    "\n",
    "v = np.sqrt(((c.G)*M)*(2/r-1/a))\n",
    "\n",
    "# Print out the first r and v value:\n",
    "# Note how we can adjust the decimal places being reported! \n",
    "# If you have used units, they will be included in your output. \n",
    "# If you haven't, this will produce an error! \n",
    "print('At r = {0:.4}, the velocity of the planet is {1:.4}'.format(r.to(u.au)[0], v.to(u.km/u.s)[0]))"
   ]
  },
  {
   "cell_type": "code",
   "execution_count": 8,
   "metadata": {},
   "outputs": [],
   "source": [
    "# SCRATCH BOX\n",
    "# The box above will throw errors if your units aren't correct for r and v. \n",
    "# If you're having trouble making your units work, use this box as a scratch area\n",
    "# to test your calculations. You can always make a scratch box on your own in these \n",
    "# templates, just label it like this one, or delete it when you've solved your problem.\n",
    "\n"
   ]
  },
  {
   "cell_type": "markdown",
   "metadata": {},
   "source": [
    "## Plotting the results"
   ]
  },
  {
   "cell_type": "code",
   "execution_count": 9,
   "metadata": {},
   "outputs": [
    {
     "data": {
      "text/plain": [
       "Text(0, 0.5, 'Velocity(km/s)')"
      ]
     },
     "execution_count": 9,
     "metadata": {},
     "output_type": "execute_result"
    },
    {
     "data": {
      "image/png": "[encoded data removed]",
      "text/plain": [
       "<Figure size 720x288 with 2 Axes>"
      ]
     },
     "metadata": {
      "needs_background": "light"
     },
     "output_type": "display_data"
    }
   ],
   "source": [
    "## QUESTION 4: Edit the code below to create a two-panel plot that shows r and v as a function of theta\n",
    "# Things to include:\n",
    "# - axis labels\n",
    "# - reasonable units for r and v, I suggest au and km/s\n",
    "# Check that your plot is reasonable! Are you getting values you expect for r and v?\n",
    "\n",
    "# This code creates two plots side-by-side, horizontally. You can do two vertical subplots using plt.subplots(2,1). \n",
    "# Then 'ax1.plot' is used instead of 'plt.plot' for the plot on the left, and ax2 is used for the plot on the right. \n",
    "# Figsize can be adjusted to make your plots bigger and space them out better. \n",
    "fig, (ax1, ax2) = plt.subplots(1, 2, figsize=(10,4))\n",
    "ax1.plot(theta_rad, r)       # plot theta vs. r here in some units\n",
    "ax2.plot(theta_rad, v.to(u.km/u.s))   # plot theta vs. v here in some units\n",
    "# Fill in between the '' to create labels below; see your previous python assignment\n",
    "ax1.set_xlabel('Angle(rad)')\n",
    "ax2.set_xlabel('Angle(rad)')\n",
    "ax1.set_ylabel('Distance(AU)')\n",
    "ax2.set_ylabel('Velocity(km/s)')"
   ]
  },
  {
   "cell_type": "markdown",
   "metadata": {},
   "source": [
    "Caption your plot here: Distance vs Angle and Velocity vs Angle of the orbit of an Earth-like planet orbiting around a star"
   ]
  },
  {
   "cell_type": "code",
   "execution_count": 10,
   "metadata": {},
   "outputs": [
    {
     "name": "stdout",
     "output_type": "stream",
     "text": [
      "The first value of ekin is 2.7391091128756046e+40 erg\n",
      "The first value of epot is -5.388234706158365e+40 erg\n",
      "From the virial equation, E_tot = -2.69e+40 erg\n",
      "From the sum of the kinetic and potential energies, E_tot = -2.65e+40 erg\n"
     ]
    }
   ],
   "source": [
    "# QUESTION 5:\n",
    "# Next calculate the kinetic and potential energy of the system,\n",
    "# and the total energy. \n",
    "# We will plot these on the same plot to see how they vary. \n",
    "# You can do this using the equations you know for the kinetic and potential energy, \n",
    "# and by using the arrays for r and v that you calculated above you should then have\n",
    "# arrays for Ekin and Epot as a function of theta.\n",
    "\n",
    "ekin = .5*m*(v**2)\n",
    "epot = -(((c.G)*M*m)/r)\n",
    "\n",
    "# Add together your ekin and epot arrays to calculate the total energy. Make sure they have\n",
    "# the same units! To test, you can add print statements to see what units you have in your \n",
    "# calculations, i.e.\n",
    "# Uncomment and edit this line:\n",
    "print('The first value of ekin is {0}'.format(ekin[0].cgs))\n",
    "print('The first value of epot is {0}'.format(epot[0].cgs))\n",
    "\n",
    "e_tot = ekin + epot\n",
    "\n",
    "# Lastly, calculate what Etot would be from the virial equation:\n",
    "e_tot_virial = epot/2\n",
    "\n",
    "# Check to see if your results agree! \n",
    "print('From the virial equation, E_tot = {0:.3}'.format(e_tot_virial.cgs[0]))\n",
    "print('From the sum of the kinetic and potential energies, E_tot = {0:.3}'.format(e_tot.cgs[0]))"
   ]
  },
  {
   "cell_type": "code",
   "execution_count": 11,
   "metadata": {},
   "outputs": [
    {
     "data": {
      "text/plain": [
       "<matplotlib.legend.Legend at 0x7f8b39d1d0b8>"
      ]
     },
     "execution_count": 11,
     "metadata": {},
     "output_type": "execute_result"
    },
    {
     "data": {
      "image/png": "[encoded data removed]",
      "text/plain": [
       "<Figure size 432x288 with 1 Axes>"
      ]
     },
     "metadata": {
      "needs_background": "light"
     },
     "output_type": "display_data"
    }
   ],
   "source": [
    "# QUESTION 6: Plot your results! \n",
    "fig = plt.figure()\n",
    "# In the next three lines, change 'ekin' to ekin.to(some unit), etc. to make readable plots \n",
    "plt.plot(theta_rad,ekin.to(u.erg),color='red',label='E_kin') \n",
    "plt.plot(theta_rad,epot.to(u.erg),color='blue',label='E_pot') \n",
    "plt.plot(theta_rad,e_tot.to(u.erg),color='black',label='E_tot')\n",
    "plt.xlabel('Angle(rad)') # Add label\n",
    "plt.ylabel('Energy(erg)') # Add label\n",
    "plt.legend(frameon=False)\n"
   ]
  },
  {
   "cell_type": "markdown",
   "metadata": {},
   "source": [
    "## Using functions to explore how r and v vary with orbital parameters\n",
    "\n",
    "In python, once you start writing longer and more complicated programs, it is useful to create your own functions that you can then call in your code. Functions can be used for calculations that you might do many times, or to simplify a very long block of code. Remember you always have to run the function definition before you can run it in the code. This can be done by including your functions near the beginning of your notebook. Here, we will just define the function in the same block as running it. \n",
    "\n",
    "You create a function with a line starting 'def' , followed by your function name, brackets containing the parameters you need to give that function for it to do its work, followed by a colon. This tells python that everything underneath and indented (the indent is important!) that those lines are part of the function. \n",
    "\n",
    "We will just create a simple function here that returns two arrays, $r$ and $v$, but if you want to learn more one good tutorial is [here](http://introtopython.org/introducing_functions.html). "
   ]
  },
  {
   "cell_type": "code",
   "execution_count": 12,
   "metadata": {},
   "outputs": [
    {
     "name": "stdout",
     "output_type": "stream",
     "text": [
      "[0.9833     0.98367776 0.98479505 0.98660445 0.98902838] AU\n"
     ]
    },
    {
     "data": {
      "text/latex": [
       "$[30.28632,~30.274878,~30.241062,~30.186383,~30.113291] \\; \\mathrm{\\frac{km}{s}}$"
      ],
      "text/plain": [
       "<Quantity [30.28631975, 30.27487798, 30.24106238, 30.18638273, 30.11329077] km / s>"
      ]
     },
     "execution_count": 12,
     "metadata": {},
     "output_type": "execute_result"
    }
   ],
   "source": [
    "# QUESTION 7: First create your function by copying and pasting your equations for r and v\n",
    "# below the 'def' statement in the space provided. Make sure you keep the indents! \n",
    "\n",
    "def calc_r_and_v(theta_rad, a, e, M):\n",
    "    r = (a*(1-e**2))/(1+e*(np.cos(theta_rad)))\n",
    "    v = (np.sqrt(((c.G)*M)*(2/r-1/a)))\n",
    "    return r, v\n",
    "\n",
    "# We have told the function to return r and v arrays, given the inputs\n",
    "# The rest of the code is NOT indented because it is not part of the function! \n",
    "# You need to ensure that theta_rad is an array! There are tests you can do to ensure the \n",
    "# variable type is correct in a function like this, but we will leave that for another day.\n",
    "\n",
    "# Once you've defined the function, you can use it. Because our function returns TWO arrays,\n",
    "# we need to call it with two variables for them to go into:\n",
    "\n",
    "r_array, v_array = calc_r_and_v(theta_rad, a, e, M)\n",
    "\n",
    "# Print out a few numbers to check that you have arrays as outputs\n",
    "# and so you can see if your values match what you had earlier! \n",
    "print(r_array[0:5].to(u.au))\n",
    "v_array[0:5].to(u.km/u.s)"
   ]
  },
  {
   "cell_type": "code",
   "execution_count": 28,
   "metadata": {},
   "outputs": [
    {
     "data": {
      "text/plain": [
       "<matplotlib.legend.Legend at 0x7f8b39038828>"
      ]
     },
     "execution_count": 28,
     "metadata": {},
     "output_type": "execute_result"
    },
    {
     "data": {
      "image/png": "[encoded data removed]",
      "text/plain": [
       "<Figure size 720x288 with 2 Axes>"
      ]
     },
     "metadata": {
      "needs_background": "light"
     },
     "output_type": "display_data"
    }
   ],
   "source": [
    "# QUESTION 8: Calculate new r and v arrays for different eccentricity values, and plot together.\n",
    "\n",
    "# Now that we've defined a function, we can more quickly look at what happens when we change\n",
    "# some of the orbital parameters. \n",
    "\n",
    "# Use your function to plot r and v as a function of theta_rad as in Question 4, but add as\n",
    "# separate colours the values you get when changing e to a slightly larger value than you \n",
    "# used above for the Earth's orbit, and to a value close to, but less than 1. \n",
    "# Be sure to include a legend that states what e values you chose, and label your axes. \n",
    "\n",
    "# First, run your function to create two more arrays for r and v. We will keep all other\n",
    "# orbital parameters the same, but change e:\n",
    "e1 = 0.025\n",
    "r_e1, v_e1 = calc_r_and_v(theta_rad, a, e1, M)\n",
    "\n",
    "e2 = 0.9\n",
    "r_e2, v_e2 = calc_r_and_v(theta_rad, a, e2, M)\n",
    "\n",
    "# Create a plot\n",
    "fig, (ax1, ax2) = plt.subplots(1, 2, figsize=(10,4))\n",
    "\n",
    "# Plot the original results for Earth:\n",
    "# In these and following lines, be sure to change 'r' to r.to(some unit) and 'v' to v.to(some unit)\n",
    "# in order to make readable plots \n",
    "\n",
    "ax1.plot(theta_rad, r.to(u.au),color='black',label='e=0.0167')       # plot theta vs. r here in some units\n",
    "ax2.plot(theta_rad, v.to(u.km/u.s),color='black',label='e=0.0167')   # plot theta vs. v here in some units\n",
    "\n",
    "\n",
    "# Plot the results for your first eccentricity value:\n",
    "ax1.plot(theta_rad, r_e1.to(u.au),color='blue',label='e=0.025')       # plot theta vs. r here in some units\n",
    "ax2.plot(theta_rad, v_e1.to(u.km/u.s),color='blue',label='e=0.025')   # plot theta vs. v here in some units\n",
    "\n",
    "# Plot the results for your second eccentricity value:\n",
    "ax1.plot(theta_rad, r_e2.to(u.au),color='gray',label='e=0.90')       # plot theta vs. r here in some units\n",
    "ax2.plot(theta_rad, v_e2.to(u.km/u.s),color='gray',label='0.90')   # plot theta vs. v here in some units\n",
    "\n",
    "# Add appropriate labels below\n",
    "ax1.set_xlabel('Angle(rad)')\n",
    "ax2.set_xlabel('Angle(rad)')\n",
    "ax1.set_ylabel('distance(AU)') # include the units for r\n",
    "ax2.set_ylabel('Velocity(km/s)') # include the units for v\n",
    "ax1.legend(frameon=False)"
   ]
  },
  {
   "cell_type": "markdown",
   "metadata": {
    "slideshow": {
     "slide_type": "slide"
    }
   },
   "source": [
    "## Discussion\n",
    "\n",
    "Hopefully you can see that for the same semi-major axis value, and the same mass of the star and planet, changing the eccentricity of the orbit greatly changes values of $r$ at perihelion and aphelion. You should also see that when the planet is furthest from the sun, its speed in the orbit is slowest. If you don't see these things in your plot above, please re-check your calculations! \n",
    "\n",
    "### Question  9\n",
    "\n",
    "Do you expect the total energy in these systems has changed? Why or why not? Add your answer in the markdown text below (you could also use a scratch box  to calculate this!):"
   ]
  },
  {
   "cell_type": "markdown",
   "metadata": {},
   "source": [
    "### Question 9 Answer:\n",
    "I did not expect the total energy in these systems to change because there are no external forces acting on the system. The only force acting on these systems is gravity and therefore, energy must be conserved. If the planet slows down, it will lose kinetic energy, however, that \"lost\" energy will be converted to gravitational potential energy.\n",
    "\n",
    "It is important to note, however, that the assumption made above is almost purely theoretical and requires a perfect system. In the \"real world,\" energy is not always conserved perfectly, but since this particular system is in near empty space, it can be assumed that a very miniscule amount of energy has been lost over time and therefore the change is negligible."
   ]
  },
  {
   "cell_type": "code",
   "execution_count": 29,
   "metadata": {},
   "outputs": [],
   "source": [
    "# Extra box for stuff if you need it! "
   ]
  }
 ],
 "metadata": {
  "kernelspec": {
   "display_name": "Python 3",
   "language": "python",
   "name": "python3"
  },
  "language_info": {
   "codemirror_mode": {
    "name": "ipython",
    "version": 3
   },
   "file_extension": ".py",
   "mimetype": "text/x-python",
   "name": "python",
   "nbconvert_exporter": "python",
   "pygments_lexer": "ipython3",
   "version": "3.8.3"
  }
 },
 "nbformat": 4,
 "nbformat_minor": 2
}
