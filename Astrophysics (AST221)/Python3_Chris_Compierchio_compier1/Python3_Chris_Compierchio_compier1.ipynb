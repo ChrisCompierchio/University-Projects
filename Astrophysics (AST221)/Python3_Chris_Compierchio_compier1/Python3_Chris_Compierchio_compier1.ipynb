{
 "cells": [
  {
   "cell_type": "markdown",
   "metadata": {},
   "source": [
    "## Chris Compierchio - Compier1\n",
    "\n",
    "Python Assignment 3: the cores of stars \n",
    "==========================================================\n",
    "\n",
    "## Before you begin\n",
    "\n",
    "Assuming you have loaded this file into your Jupyter Notebooks workspace, make sure to press the \"play\" button at the top of the page in each box. This will render the Markdown into nicely-formatted text and execute all of the sections of Python code.\n",
    "\n",
    "## Introduction\n",
    "\n",
    "In this problem, you will examine the typical densities $\\rho_c$, pressures $P_c$, and temperatures $T_c$ in the cores of stars. How do these depend on mass? What processes dominate the pressure?"
   ]
  },
  {
   "cell_type": "markdown",
   "metadata": {},
   "source": [
    "The file AppendixG.dat is from C&O, and gives stellar data. Copy and rename the file (click on the empty box beside the filename in your syzygy directory, click 'Duplicate' in the options at top left, then click on the empty box beside the duplicated file and click 'Rename' in the options at the top left). Edit the file to keep only the masses and radii for main-sequence stars of spectral type B0, A0, F0, the Sun, K0, and M0. Note that you could also do this before uploading the file to syzygy! Next read in the file using numpy's genfromtxt() function (we use this instead of loadtxt, as you used before, since one column has text rather than numbers):"
   ]
  },
  {
   "cell_type": "code",
   "execution_count": 1,
   "metadata": {},
   "outputs": [
    {
     "name": "stdout",
     "output_type": "stream",
     "text": [
      "[6.7  2.2  1.4  1.   0.93 0.63]\n"
     ]
    }
   ],
   "source": [
    "import numpy as np\n",
    "import matplotlib.pyplot as plt\n",
    "import astropy.units as u\n",
    "import astropy.constants as c\n",
    "\n",
    "%matplotlib inline\n",
    "\n",
    "# Read in the data - here we are only using columns 0, 3, and 4, and are telling genfromtxt to omit the first 3 rows\n",
    "# Unpack tells genfromtxt to load the columns in your text file into 1-D arrays\n",
    "# Edit the filename to whatever you named your file. \n",
    "specType, R, M = np.genfromtxt('AppendixG.dat', skip_header=3, unpack=True, usecols=(0,3,4), dtype='str')\n",
    "\n",
    "# We read everything in as a string but we want to convert R and M to float:\n",
    "R = R.astype(np.float)\n",
    "M = M.astype(np.float)\n",
    "\n",
    "# Check your values. Note that R in this dataset is R/R_sun, and M is M/M_sun! \n",
    "print(R)"
   ]
  },
  {
   "cell_type": "markdown",
   "metadata": {},
   "source": [
    "In this assignment we will investigate the behaviour of the central gas density, $\\rho_c$, pressure, $P_c$, and temperature, $T_c$, of stars on the main sequence. First look up the values for the Sun in C&O Chapter 11.1, and add them here, with units. Use whichever units you are most comfortable with. "
   ]
  },
  {
   "cell_type": "code",
   "execution_count": 2,
   "metadata": {},
   "outputs": [],
   "source": [
    "### Question 1\n",
    "sun_rho = (1.527*10**5)*u.kg/u.m**-3\n",
    "sun_tc = (1.570*10**7)*u.K\n",
    "sun_pc = (2.342*10**16)*u.N/u.m**-2"
   ]
  },
  {
   "cell_type": "markdown",
   "metadata": {},
   "source": [
    "Next we will estimate values of $\\rho$, $T_c$ and $P_c$ for the other stars using scaling relations (assuming the structure of all main-sequence stars is the same). With this notebook you should submit a pdf showing how you derived your scaling relations. \n",
    "\n",
    "Start with the equation of hydrostatic equilibrium to determine how $P_c$ scales with $M$ and $R$. "
   ]
  },
  {
   "cell_type": "markdown",
   "metadata": {},
   "source": [
    "### Question 2a\n",
    "Write your scaling here in Markdown:\n",
    "$P_c \\propto M^2/R^4$ "
   ]
  },
  {
   "cell_type": "code",
   "execution_count": 3,
   "metadata": {},
   "outputs": [
    {
     "name": "stdout",
     "output_type": "stream",
     "text": [
      "[2.56955499e+24 6.06996660e+24 1.12670145e+25 1.69075636e+25\n",
      " 1.41059850e+25 2.79163853e+25]\n"
     ]
    },
    {
     "data": {
      "image/png": "[encoded data removed]",
      "text/plain": [
       "<Figure size 432x288 with 1 Axes>"
      ]
     },
     "metadata": {
      "needs_background": "light"
     },
     "output_type": "display_data"
    }
   ],
   "source": [
    "### Question 2b\n",
    "\n",
    "# Use your scaling relation and values for the Sun to calculate P_c for the other stellar types in your table. \n",
    "# Remember that the values for M and R are given in units of the solar mass and radius:\n",
    "pc = (M*(1.989*10**30))**2/(R*(6.955*10**8))**4\n",
    "print(pc)\n",
    "\n",
    "# Plot your results against M. Use logarithmic axes. Do not connect your data points - i.e., use plt.scatter()\n",
    "# rather than plt.plot(). Label your axes! \n",
    "# If you don't recall how to set up your plot, look back at the first two python assignments. \n",
    "\n",
    "fig = plt.figure(), plt.xlabel(\"Mass (kg)\"), plt.ylabel(\"Pressure(scaled to kg^2/m^4)\"), \n",
    "plt.title(\"Pressure vs Mass of a Star\")\n",
    "fig = plt.scatter(M,pc), plt.yscale(\"log\"), plt.xscale(\"log\")\n"
   ]
  },
  {
   "cell_type": "markdown",
   "metadata": {},
   "source": [
    "Next, find a scaling relation for $T_c$ in terms of $M$ and $R$ for stars like our Sun. Again, show your work in an attached file. "
   ]
  },
  {
   "cell_type": "markdown",
   "metadata": {},
   "source": [
    "### Question 3a\n",
    "Write your scaling here: $T_c \\propto M^2/R$"
   ]
  },
  {
   "cell_type": "code",
   "execution_count": 4,
   "metadata": {},
   "outputs": [
    {
     "name": "stdout",
     "output_type": "stream",
     "text": [
      "[2.60000227e+53 2.17443158e+52 1.04012219e+52 5.68816822e+51\n",
      " 3.81718902e+51 2.34840088e+51]\n"
     ]
    },
    {
     "data": {
      "image/png": "[encoded data removed]",
      "text/plain": [
       "<Figure size 432x288 with 1 Axes>"
      ]
     },
     "metadata": {
      "needs_background": "light"
     },
     "output_type": "display_data"
    }
   ],
   "source": [
    "### Question 3b\n",
    "# Use your scaling relation and values for the Sun to calculate T_C for the other stellar types in your table:\n",
    "tc = (M*(1.989*10**30))**2/((R*(6.955*10**8)))\n",
    "print(tc)\n",
    "\n",
    "# Plot your results against M.  Use logarithmic axes. Do not connect your data points - i.e., use plt.scatter()\n",
    "# rather than plt.plot(). Label your axes! \n",
    "# If you don't recall how to set up your plot, look back at the first two python assignments. \n",
    "\n",
    "fig = plt.figure(), plt.xlabel(\"Mass (kg)\"), plt.ylabel(\"Temperature(scaled to kg^2/m)\"), \n",
    "plt.title(\"Temperature vs Mass of a Star\")\n",
    "fig = plt.scatter(M, tc)\n",
    "fig = plt.yscale(\"log\")\n",
    "fig = plt.xscale(\"log\")"
   ]
  },
  {
   "cell_type": "markdown",
   "metadata": {},
   "source": [
    "### Question 4a\n",
    "Next, write a scaling for the density $\\rho$ (no need to overthink this one!):\n",
    "\n",
    "$\\rho \\propto M/R^3$"
   ]
  },
  {
   "cell_type": "code",
   "execution_count": 5,
   "metadata": {},
   "outputs": [
    {
     "name": "stdout",
     "output_type": "stream",
     "text": [
      "[  343.99887377  1610.17594982  3447.30140016  5912.12190127\n",
      "  5806.59620293 12058.46168779]\n"
     ]
    },
    {
     "data": {
      "image/png": "[encoded data removed]",
      "text/plain": [
       "<Figure size 432x288 with 1 Axes>"
      ]
     },
     "metadata": {
      "needs_background": "light"
     },
     "output_type": "display_data"
    }
   ],
   "source": [
    "### Question 4b\n",
    "# Use your scaling relation and values for the Sun to calculate rho for the other stellar types in your table:\n",
    "rho =(M*(1.989*10**30))/((R*(6.955*10**8))**3)\n",
    "print(rho)\n",
    "\n",
    "# Plot your results against M.  Use logarithmic axes. Do not connect your data points - i.e., use plt.scatter()\n",
    "# rather than plt.plot(). Label your axes! \n",
    "# If you don't recall how to set up your plot, look back at the first two python assignments. \n",
    "\n",
    "fig = plt.figure(), plt.xlabel(\"Mass (kg)\"), plt.ylabel(\"Density(scaled to kg/m^3)\"), plt.title(\"Density vs Mass of a Star\")\n",
    "fig = plt.scatter(M, rho)\n",
    "fig = plt.yscale(\"log\")\n",
    "fig = plt.xscale(\"log\")"
   ]
  },
  {
   "cell_type": "markdown",
   "metadata": {},
   "source": [
    "Next we will use the values from your table to estimate how $R$ scales with $M$ (i.e., assuming $R \\propto M^\\alpha$, what is $\\alpha$?). Here, first graph $R$ as a function of $M$ using logarithmic axes, so the dependence is a straight line. "
   ]
  },
  {
   "cell_type": "code",
   "execution_count": 6,
   "metadata": {},
   "outputs": [
    {
     "data": {
      "image/png": "[encoded data removed]",
      "text/plain": [
       "<Figure size 432x288 with 1 Axes>"
      ]
     },
     "metadata": {
      "needs_background": "light"
     },
     "output_type": "display_data"
    }
   ],
   "source": [
    "### Question 5a\n",
    "# Plot M vs R from your table. Use logarithmic axes. Do not connect your data points - i.e., use plt.scatter()\n",
    "# rather than plt.plot(). Label your axes! \n",
    "# If you don't recall how to set up your plot, look back at the first two python assignments. \n",
    "\n",
    "fig = plt.figure(), plt.xlabel(\"Mass (kg)\"), plt.ylabel(\"Radius(m)\"), \n",
    "plt.title(\"Mass vs Radius of a Star\")\n",
    "\n",
    "fig = plt.scatter(M, R)\n",
    "fig = plt.yscale(\"log\")\n",
    "fig = plt.xscale(\"log\")"
   ]
  },
  {
   "cell_type": "markdown",
   "metadata": {},
   "source": [
    "Next, we want to fit the data with a straight line. The simplest way to do this is via a linear regression, using the least squares method. \n",
    "\n",
    "For a short video and explanation of how to do this in python, see [this link](https://towardsdatascience.com/linear-regression-using-least-squares-a4c3456e8570). Then try your own fit in the box below:"
   ]
  },
  {
   "cell_type": "code",
   "execution_count": 7,
   "metadata": {},
   "outputs": [
    {
     "name": "stdout",
     "output_type": "stream",
     "text": [
      "0.6628154116954939 0.030105220672072053\n"
     ]
    }
   ],
   "source": [
    "### Question 5b\n",
    "# Following the above website or your own method, perform the linear regression and print your resulting slope \n",
    "# and intercept for the data above. Remember you are fitting a straight line to log(R/R_sun) vs. log(M/M_sun). \n",
    "# In python, log(x) = np.log10(x)\n",
    "\n",
    "x_mean = np.mean(np.log(M))\n",
    "y_mean = np.mean(np.log(R))\n",
    "\n",
    "num = 0\n",
    "den = 0\n",
    "\n",
    "for i in range(len(R)):\n",
    "    num += (np.log(M[i]) - x_mean)*(np.log(R[i]) - y_mean)\n",
    "    den += (np.log(M[i]) - x_mean)**2\n",
    "    \n",
    "slope = num/den\n",
    "intercept = y_mean - slope*x_mean\n",
    "\n",
    "print (slope, intercept)"
   ]
  },
  {
   "cell_type": "code",
   "execution_count": 8,
   "metadata": {},
   "outputs": [
    {
     "name": "stdout",
     "output_type": "stream",
     "text": [
      "0.6628154116954939 0.030105220672072053\n"
     ]
    }
   ],
   "source": [
    "### Question 5c\n",
    "# There are also simple functions to perform the same analysis. Here's one, which you can use to check your math. \n",
    "# Be sure to edit 'X' and 'Y'\n",
    "from scipy import stats\n",
    "slope, intercept, r_value, p_value, std_err = stats.linregress(np.log(M),np.log(R))\n",
    "\n",
    "print(slope, intercept)"
   ]
  },
  {
   "cell_type": "code",
   "execution_count": 9,
   "metadata": {},
   "outputs": [
    {
     "data": {
      "image/png": "[encoded data removed]",
      "text/plain": [
       "<Figure size 432x288 with 1 Axes>"
      ]
     },
     "metadata": {
      "needs_background": "light"
     },
     "output_type": "display_data"
    }
   ],
   "source": [
    "### Question 5d\n",
    "# Using the equation for a line and your slope & intercept, plot R vs. M from your table again, \n",
    "# and add your fitted line:\n",
    "\n",
    "# Equation for your line\n",
    "y = slope*M + intercept \n",
    "\n",
    "fig = plt.figure(), plt.ylabel(\"Radius(m)\"), plt.xlabel(\"Mass (kg)\"), \n",
    "plt.title(\"Mass vs Radius of a Star\")\n",
    "\n",
    "fig = plt.scatter(M, R)\n",
    "\n",
    "fig = plt.yscale(\"log\")\n",
    "fig = plt.xscale(\"log\")\n",
    "\n",
    "fig = plt.plot([min(M), max(M)], [min(R), max(R)], color='red')\n",
    "\n",
    "# If you don't have a good fit, go back a step! "
   ]
  },
  {
   "cell_type": "markdown",
   "metadata": {},
   "source": [
    "### Question 5e\n",
    "Given your slope, write your scaling between $M$ and $R$ below:\n",
    "\n",
    "$R \\propto M^.663$"
   ]
  },
  {
   "cell_type": "markdown",
   "metadata": {},
   "source": [
    "### Question 6\n",
    "\n",
    "Given your result, how do $\\rho_c$, $P_c$, and $T_c$ scale with $M$? Show your work in your attached file, and write your scalings here in Markdown:\n",
    "\n",
    "$\\rho \\propto M^-1$ exponent is -1\n",
    "\n",
    "$P_c \\propto M^-4/3$ exponent is -4/3\n",
    "\n",
    "$T_c \\propto M^1/3$ exponent is 1/3\n",
    "\n",
    "\n",
    "(You can check your work by considering whether your scalings agree with your plots above.)"
   ]
  },
  {
   "cell_type": "markdown",
   "metadata": {},
   "source": [
    "### Question 7\n",
    "In example 10.2.1, C\\&O show that for the Sun radiation pressure is not important. Given the scalings you derived, for what mass does radiation pressure become important? (If you could not derive the scalings, use the numbers you've calculated above to make a guess). Show your work in an attached file. \n",
    "\n",
    "*Bonus: plot the radiation pressure and the central pressure vs. mass for the stellar types in your table in the box below. You can use the value calculated in C&O for the radiation pressure in the Sun.*"
   ]
  },
  {
   "cell_type": "code",
   "execution_count": 10,
   "metadata": {},
   "outputs": [
    {
     "data": {
      "text/plain": [
       "<Figure size 432x288 with 0 Axes>"
      ]
     },
     "metadata": {},
     "output_type": "display_data"
    },
    {
     "data": {
      "image/png": "[encoded data removed]",
      "text/plain": [
       "<Figure size 576x720 with 2 Axes>"
      ]
     },
     "metadata": {
      "needs_background": "light"
     },
     "output_type": "display_data"
    }
   ],
   "source": [
    "P_central = c.G*((M*(1.989*10**30))**2)/((R*(6.955*10**8))**4)\n",
    "\n",
    "P_rad = (1/3)*(7.5658**-16)*(((M*(1.989*10**30))**2/((R*(6.955*10**8))**2)**4))\n",
    "\n",
    "fig1 = plt.figure()\n",
    "\n",
    "fig1, (plot1, plot2) = plt.subplots(2,1, figsize = (8,10))\n",
    "\n",
    "plot1.scatter(M, P_central)\n",
    "plot1.set_title(\"Central Pressure vs Mass\"), plot1.set_xlabel(\"Mass(kg)\"), plot1.set_ylabel(\"Central Pressure(Pa)\")\n",
    "\n",
    "plot1.set_yscale(\"log\")\n",
    "plot1.set_xscale(\"log\")\n",
    "\n",
    "plot2.scatter(M, P_rad)\n",
    "plot2.set_title(\"Radiation Pressure vs Mass\"), plot2.set_xlabel(\"Mass (kg)\"), plot2.set_ylabel(\"Radiation Pressure(Pa)\")\n",
    "\n",
    "plot2.set_yscale(\"log\")\n",
    "plot2.set_xscale(\"log\")"
   ]
  },
  {
   "cell_type": "markdown",
   "metadata": {},
   "source": [
    "## What to submit\n",
    "\n",
    "For this assignment, please submit to Quercus a) the pdf of this solved notebook, b) the .ipynb file, c) your edited Appendix G .dat file, and d) a scanned pdf showing your scaling calculations and the answer to Q7. "
   ]
  },
  {
   "cell_type": "code",
   "execution_count": null,
   "metadata": {},
   "outputs": [],
   "source": []
  }
 ],
 "metadata": {
  "kernelspec": {
   "display_name": "Python 3",
   "language": "python",
   "name": "python3"
  },
  "language_info": {
   "codemirror_mode": {
    "name": "ipython",
    "version": 3
   },
   "file_extension": ".py",
   "mimetype": "text/x-python",
   "name": "python",
   "nbconvert_exporter": "python",
   "pygments_lexer": "ipython3",
   "version": "3.8.3"
  }
 },
 "nbformat": 4,
 "nbformat_minor": 2
}
