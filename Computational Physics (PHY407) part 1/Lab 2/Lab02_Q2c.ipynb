{
 "cells": [
  {
   "cell_type": "markdown",
   "metadata": {},
   "source": [
    "Sky Kapoor and Chris Compierchio\n",
    "\n",
    "This program will compare the trapezoidal rule and Simpson's rule while integrating the function 4/(1+x^2)"
   ]
  },
  {
   "cell_type": "code",
   "execution_count": 90,
   "metadata": {},
   "outputs": [],
   "source": [
    "#import libraries\n",
    "import numpy as np\n",
    "import matplotlib.pyplot as plt\n",
    "%matplotlib inline\n",
    "import time"
   ]
  },
  {
   "cell_type": "code",
   "execution_count": 84,
   "metadata": {},
   "outputs": [],
   "source": [
    "#Define the function given in the handout\n",
    "def f(x):\n",
    "    return 4/(1+x**2)\n",
    "\n",
    "#define the derivative of the function given in the handout\n",
    "def fprime(x):\n",
    "    return (-8*x)/((1+(x**2))**2)\n",
    "\n",
    "#deine the 3rd derivative of the function given in the handout\n",
    "def f3prime(x):\n",
    "    return ((96*x)*((-x**2)+1))/((x**2)+1)**4\n",
    "\n",
    "#define the error function for the trapezoidal rule\n",
    "def trapError(a, b, h):\n",
    "    return ((h**2)/12)*(fprime(a)-fprime(b))\n",
    "\n",
    "#define the error function for Simpson's Rule\n",
    "def simpError(a, b, h):\n",
    "    return ((h**4)/90)*(f3prime(a)-f3prime(b))"
   ]
  },
  {
   "cell_type": "markdown",
   "metadata": {},
   "source": [
    "TRAPEZOID METHOD"
   ]
  },
  {
   "cell_type": "code",
   "execution_count": 6,
   "metadata": {},
   "outputs": [],
   "source": [
    "#Store number of slices\n",
    "N = 4\n",
    "#store bounds\n",
    "a = 0\n",
    "b = 1\n",
    "#store slice width\n",
    "h = (b-a)/N\n",
    "\n",
    "#Calculate the first part of the trapezoid method\n",
    "s = .5*f(a)+0.5*f(b)\n",
    "\n",
    "#Add the sum part of the trapezoid method\n",
    "for i in range(1,N):\n",
    "    s += f(a+i*h)\n",
    "\n",
    "#calculate the integral\n",
    "trap = h*s"
   ]
  },
  {
   "cell_type": "markdown",
   "metadata": {},
   "source": [
    "SIMPSONS RULE"
   ]
  },
  {
   "cell_type": "code",
   "execution_count": 7,
   "metadata": {},
   "outputs": [],
   "source": [
    "#Calculate the first part of the Simpsons method\n",
    "m = f(a) + f(b)\n",
    "\n",
    "#Create a variable to store the first summation portion in SImpsons Rule\n",
    "sum1 = 0\n",
    "\n",
    "#Calculate the first summation in Simpsons Rule\n",
    "for k in range(1,N,2):\n",
    "    sum1 += f(a+(k*h)) \n",
    "\n",
    "#Calculate the first summation in Simpsons Rule\n",
    "for k in range(2,N, 2):\n",
    "    sum2 = f(a+(k*h))\n",
    "    \n",
    "#calculate the integral\n",
    "simp = (h/3)*(m+4*sum1+2*sum2)\n"
   ]
  },
  {
   "cell_type": "code",
   "execution_count": 8,
   "metadata": {},
   "outputs": [
    {
     "name": "stdout",
     "output_type": "stream",
     "text": [
      "The exact value is pi\n",
      "The value using the trapezoidal rule is: 3.1311764705882354\n",
      "The value using the Simpsons rule is: 3.14156862745098\n"
     ]
    }
   ],
   "source": [
    "#print results\n",
    "print(\"The exact value is pi\")\n",
    "print(\"The value using the trapezoidal rule is:\", trap)\n",
    "print(\"The value using the Simpsons rule is:\", simp)"
   ]
  },
  {
   "cell_type": "code",
   "execution_count": 78,
   "metadata": {},
   "outputs": [
    {
     "name": "stdout",
     "output_type": "stream",
     "text": [
      "To get an approximate error of O(10^-9) with the trapezoidal rule, it takes about 2^12 slices.\n"
     ]
    }
   ],
   "source": [
    "#store number of slices again for convenience\n",
    "N = 2**12\n",
    "#store slice width again for convenience\n",
    "h = (b-a)/N\n",
    "\n",
    "#calculate the error using the trapezoidal method\n",
    "trap_err = trapError(a, b, h)\n",
    "\n",
    "#print results\n",
    "print(\"To get an approximate error of O(10^-9) with the trapezoidal rule, it takes about 2^12 slices.\")"
   ]
  },
  {
   "cell_type": "code",
   "execution_count": 89,
   "metadata": {},
   "outputs": [
    {
     "name": "stdout",
     "output_type": "stream",
     "text": [
      "To get an approximate error of O(10^-9) with Simpsons rule, it is impossible as f'''(a) and f'''(b) are both zero.\n"
     ]
    }
   ],
   "source": [
    "#store number of slices again for convenience\n",
    "N = 2**12\n",
    "#store slice width again for convenience\n",
    "h = (b-a)/N\n",
    "\n",
    "#calculate the error using simpsons method\n",
    "simp_err = simpError(a, b, h)\n",
    "\n",
    "#print results\n",
    "print(\"To get an approximate error of O(10^-9) with Simpsons rule, it is impossible as f'''(a) and f'''(b) are both zero.\")"
   ]
  },
  {
   "cell_type": "code",
   "execution_count": 94,
   "metadata": {},
   "outputs": [
    {
     "name": "stdout",
     "output_type": "stream",
     "text": [
      "It took 0.0 seconds to compute the integral ith an error of O(10^-9)\n"
     ]
    }
   ],
   "source": [
    "#Store number of slices\n",
    "N = 4\n",
    "#store bounds\n",
    "a = 0\n",
    "b = 1\n",
    "#store slice width\n",
    "h = (b-a)/N\n",
    "\n",
    "#start timer\n",
    "start = time.time()\n",
    "\n",
    "#Calculate the first part of the trapezoid method\n",
    "s = .5*f(a)+0.5*f(b)\n",
    "\n",
    "#Add the sum part of the trapezoid method\n",
    "for i in range(1,N):\n",
    "    s += f(a+i*h)\n",
    "\n",
    "#calculate the integral\n",
    "trap = h*s\n",
    "\n",
    "#end timer\n",
    "end = time.time()\n",
    "\n",
    "#print results\n",
    "print(\"It took\", end-start, \"seconds to compute the integral with an error of O(10^-9)\")"
   ]
  },
  {
   "cell_type": "code",
   "execution_count": null,
   "metadata": {},
   "outputs": [],
   "source": []
  }
 ],
 "metadata": {
  "kernelspec": {
   "display_name": "Python 3",
   "language": "python",
   "name": "python3"
  },
  "language_info": {
   "codemirror_mode": {
    "name": "ipython",
    "version": 3
   },
   "file_extension": ".py",
   "mimetype": "text/x-python",
   "name": "python",
   "nbconvert_exporter": "python",
   "pygments_lexer": "ipython3",
   "version": "3.8.3"
  }
 },
 "nbformat": 4,
 "nbformat_minor": 4
}
