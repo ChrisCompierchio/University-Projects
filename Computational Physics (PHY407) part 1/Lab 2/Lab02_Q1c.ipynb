{
 "cells": [
  {
   "cell_type": "markdown",
   "metadata": {},
   "source": [
    "Sky Kapoor and Chris Compierchio\n",
    "\n",
    "This program will evaluate the standard deviation of two sequences with  predetermined sample variances. This will be compared\n",
    "to the numpy.std() method of calculating standard deviation. The relative error with respect to numpy.std will also be calculated."
   ]
  },
  {
   "cell_type": "code",
   "execution_count": 1,
   "metadata": {},
   "outputs": [],
   "source": [
    "#import libraries\n",
    "import numpy as np\n",
    "import matplotlib.pyplot as plt\n",
    "%matplotlib inline"
   ]
  },
  {
   "cell_type": "code",
   "execution_count": 2,
   "metadata": {},
   "outputs": [],
   "source": [
    "#Create and store two different sets of means, standard deviations, and sequence lenths respectively\n",
    "mean1, sigma1, n1 = (0., 1., 2000)\n",
    "mean2, sigma2, n2 = (1.e7, 1., 2000)\n",
    "\n",
    "#Create two sequences with a predetermined sample variance\n",
    "data1 = np.random.normal(mean1, sigma1, n1)\n",
    "data2 = np.random.normal(mean2, sigma2, n2)"
   ]
  },
  {
   "cell_type": "markdown",
   "metadata": {},
   "source": [
    "DATA 1"
   ]
  },
  {
   "cell_type": "code",
   "execution_count": 3,
   "metadata": {},
   "outputs": [
    {
     "name": "stdout",
     "output_type": "stream",
     "text": [
      "The standard deviation using Eq.1 is: 1.0046334995831687\n",
      "The standard deviation using Eq.2 is: 1.0024014431286845\n",
      "The standard deviation using numpy.std() is: 1.0043852864260778\n",
      "The relative error using Eq.1 is: 0.0002471294237832917\n",
      "The relative error using Eq.2 is: -0.0019751815605069866\n"
     ]
    }
   ],
   "source": [
    "\n",
    "########################################### EQUATION 1 METHOD #############################################\n",
    "\n",
    "#store the length of the first sequence\n",
    "n = data1.size\n",
    "#calculate the mean of the sequence\n",
    "mean = (1/n)*np.sum(data1)\n",
    "\n",
    "#create a variable that will store the required sum similar to that of part b\n",
    "sum1 = 0\n",
    "std = 0\n",
    "\n",
    "#Start a for loop to calculate this sum.\n",
    "for i in range(1,n):\n",
    "    sum1 += np.sum((data1[i]-mean)**2)\n",
    "\n",
    "#Use the calculated sum (csum) and Eq. 1 to caluclate the standard deviation of the dataset.\n",
    "std = np.sqrt((1/(n-1))*sum1)\n",
    "\n",
    "#calculate the relative error with respect to numpy.std()\n",
    "re1 = (std-np.std(data1))/np.std(data1)\n",
    "\n",
    "########################################### ONE PASS METHOD #############################################\n",
    "\n",
    "#create a variable that will store the required sum similar to that of part b\n",
    "sum2 = 0\n",
    "\n",
    "#begin the summation\n",
    "for i in range(1,n):\n",
    "    sum2 += np.sum((data1[i]**2)-(n*(np.mean(data1)**2)))\n",
    "    \n",
    "#calculate the standard deviation\n",
    "std2 = np.sqrt((1/(n-1))*sum2)\n",
    "\n",
    "#calculate the relative error with respect to numpy.std()\n",
    "re2 = (std2-np.std(data1))/np.std(data1)\n",
    "\n",
    "#Print the results\n",
    "print(\"The standard deviation using Eq.1 is:\", std)\n",
    "print(\"The standard deviation using Eq.2 is:\", std2)\n",
    "print(\"The standard deviation using numpy.std() is:\", np.std(data1))\n",
    "print(\"The relative error using Eq.1 is:\", re1)\n",
    "print(\"The relative error using Eq.2 is:\", re2)"
   ]
  },
  {
   "cell_type": "markdown",
   "metadata": {},
   "source": [
    "DATA 2"
   ]
  },
  {
   "cell_type": "code",
   "execution_count": 4,
   "metadata": {},
   "outputs": [
    {
     "name": "stdout",
     "output_type": "stream",
     "text": [
      "The standard deviation using Eq.1 is: 1.0046334995831687\n",
      "The standard deviation using Eq.2 is: 0.9962410592442283\n",
      "The standard deviation using numpy.std() is: 0.9995374503045455\n",
      "The relative error using Eq.1 is: 0.0050984075454806365\n",
      "The relative error using Eq.2 is: -0.0032979165105948153\n"
     ]
    },
    {
     "name": "stderr",
     "output_type": "stream",
     "text": [
      "<ipython-input-4-6c76a56122c0>:17: RuntimeWarning: invalid value encountered in sqrt\n",
      "  std2 = np.sqrt((1/(m-1))*sum2)\n"
     ]
    }
   ],
   "source": [
    "\n",
    "########################################### EQUATION 1 METHOD #############################################\n",
    "\n",
    "#store the length of the first sequence\n",
    "m = data2.size\n",
    "\n",
    "#calculate the mean of the sequence\n",
    "mean = (1/m)*np.sum(data2)\n",
    "\n",
    "#create a variable that will store the required sum similar to that of part b\n",
    "sum2 = 0\n",
    "\n",
    "#begin the summation\n",
    "for i in range(1,m):\n",
    "    sum2 += np.sum((data2[i]**2)-(m*(np.mean(data2)**2)))\n",
    "    \n",
    "#calculate the standard deviation\n",
    "std2 = np.sqrt((1/(m-1))*sum2)\n",
    "\n",
    "#calculate the relative error with respect to numpy.std()\n",
    "re1 = (std-np.std(data2))/np.std(data2)\n",
    "\n",
    "########################################### ONE PASS METHOD #############################################\n",
    "\n",
    "#Create variables to store the two sum portions of Eq.2.\n",
    "squaredSum = 0\n",
    "avgSum = 0\n",
    "#This will store the standard deviation\n",
    "std2 = 0\n",
    "\n",
    "for i in data2: \n",
    "    squaredSum += i**2 \n",
    "    avgSum += i\n",
    "#calculate standard deviation\n",
    "std2 = np.sqrt((1./(m-1)) * (squaredSum - m*((avgSum/m) ** 2)))\n",
    "\n",
    "#calculate relative error\n",
    "re2 = (std2-np.std(data2))/np.std(data2) \n",
    "\n",
    "#Print the results\n",
    "print(\"The standard deviation using Eq.1 is:\", std)\n",
    "print(\"The standard deviation using Eq.2 is:\", std2)\n",
    "print(\"The standard deviation using numpy.std() is:\", np.std(data2))\n",
    "print(\"The relative error using Eq.1 is:\", re1)\n",
    "print(\"The relative error using Eq.2 is:\", re2)"
   ]
  },
  {
   "cell_type": "code",
   "execution_count": null,
   "metadata": {},
   "outputs": [],
   "source": []
  }
 ],
 "metadata": {
  "kernelspec": {
   "display_name": "Python 3",
   "language": "python",
   "name": "python3"
  },
  "language_info": {
   "codemirror_mode": {
    "name": "ipython",
    "version": 3
   },
   "file_extension": ".py",
   "mimetype": "text/x-python",
   "name": "python",
   "nbconvert_exporter": "python",
   "pygments_lexer": "ipython3",
   "version": "3.8.3"
  }
 },
 "nbformat": 4,
 "nbformat_minor": 4
}
