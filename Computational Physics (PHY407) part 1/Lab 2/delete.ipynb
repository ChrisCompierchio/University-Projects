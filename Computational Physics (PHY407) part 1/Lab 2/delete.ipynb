{
 "cells": [
  {
   "cell_type": "markdown",
   "metadata": {},
   "source": [
    "Sky Kapoor and Chris Compierchio\n",
    "\n",
    "This program will Adapt the “practical estimation of errors” of the textbook to the trapezoidal method only to obtain the error estimation for N2 = 32 (using N1 = 16)"
   ]
  },
  {
   "cell_type": "code",
   "execution_count": 6,
   "metadata": {},
   "outputs": [],
   "source": [
    "#import libraries\n",
    "import numpy as np\n",
    "import matplotlib.pyplot as plt\n",
    "%matplotlib inline\n",
    "import time"
   ]
  },
  {
   "cell_type": "code",
   "execution_count": 7,
   "metadata": {},
   "outputs": [],
   "source": [
    "#Define the function given in the handout\n",
    "def f(x):\n",
    "    return 4/(1+x**2)\n"
   ]
  },
  {
   "cell_type": "markdown",
   "metadata": {},
   "source": [
    "CODE FOR I1"
   ]
  },
  {
   "cell_type": "code",
   "execution_count": 8,
   "metadata": {},
   "outputs": [],
   "source": [
    "#Store number of slices\n",
    "N = 16\n",
    "#store bounds\n",
    "a = 0\n",
    "b = 1\n",
    "#store slice width\n",
    "h = (b-a)/N\n",
    "\n",
    "#Calculate the first part of the Simpsons method\n",
    "m = f(a) + f(b)\n",
    "\n",
    "#Create a variable to store the first summation portion in SImpsons Rule\n",
    "sum1 = 0\n",
    "\n",
    "#Calculate the first summation in Simpsons Rule\n",
    "for k in range(1,N,2):\n",
    "    sum1 += f(a+(k*h)) \n",
    "\n",
    "#Calculate the first summation in Simpsons Rule\n",
    "for k in range(2,N, 2):\n",
    "    sum2 = f(a+(k*h))\n",
    "    \n",
    "#calculate the integral\n",
    "simp1 = (h/3)*(m+4*sum1+2*sum2)\n"
   ]
  },
  {
   "cell_type": "markdown",
   "metadata": {},
   "source": [
    "CODE FOR I2"
   ]
  },
  {
   "cell_type": "code",
   "execution_count": 9,
   "metadata": {},
   "outputs": [],
   "source": [
    "#Store number of slices\n",
    "N = 32\n",
    "#store bounds\n",
    "a = 0\n",
    "b = 1\n",
    "#store slice width\n",
    "h = (b-a)/N\n",
    "\n",
    "#Calculate the first part of the Simpsons method\n",
    "m = f(a) + f(b)\n",
    "\n",
    "#Create a variable to store the first summation portion in SImpsons Rule\n",
    "sum1 = 0\n",
    "\n",
    "#Calculate the first summation in Simpsons Rule\n",
    "for k in range(1,N,2):\n",
    "    sum1 += f(a+(k*h)) \n",
    "\n",
    "#Calculate the first summation in Simpsons Rule\n",
    "for k in range(2,N, 2):\n",
    "    sum2 = f(a+(k*h))\n",
    "    \n",
    "#calculate the integral\n",
    "simp2 = (h/3)*(m+4*sum1+2*sum2)\n"
   ]
  },
  {
   "cell_type": "code",
   "execution_count": 11,
   "metadata": {},
   "outputs": [
    {
     "name": "stdout",
     "output_type": "stream",
     "text": [
      "The Practical Estimation of Errors is: -0.007546284849290874\n"
     ]
    }
   ],
   "source": [
    "#calulate the practical estimation of errors\n",
    "error = (1/15)*(simp2-simp1)\n",
    "print(\"The Practical Estimation of Errors is:\", error)"
   ]
  },
  {
   "cell_type": "code",
   "execution_count": null,
   "metadata": {},
   "outputs": [],
   "source": []
  }
 ],
 "metadata": {
  "kernelspec": {
   "display_name": "Python 3",
   "language": "python",
   "name": "python3"
  },
  "language_info": {
   "codemirror_mode": {
    "name": "ipython",
    "version": 3
   },
   "file_extension": ".py",
   "mimetype": "text/x-python",
   "name": "python",
   "nbconvert_exporter": "python",
   "pygments_lexer": "ipython3",
   "version": "3.8.3"
  }
 },
 "nbformat": 4,
 "nbformat_minor": 4
}
