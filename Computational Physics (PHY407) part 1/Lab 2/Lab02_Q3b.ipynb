{
 "cells": [
  {
   "cell_type": "markdown",
   "metadata": {},
   "source": [
    "Sky Kapoor and Chris Compierchio\n",
    "\n",
    "This program will calculate the integral for W using Simpson's Rule."
   ]
  },
  {
   "cell_type": "code",
   "execution_count": 33,
   "metadata": {},
   "outputs": [],
   "source": [
    "#import libraries\n",
    "import numpy as np\n",
    "import matplotlib.pyplot as plt\n",
    "import scipy.constants as con\n",
    "%matplotlib inline"
   ]
  },
  {
   "cell_type": "code",
   "execution_count": 34,
   "metadata": {},
   "outputs": [],
   "source": [
    "#Define the function given in the handout\n",
    "def f(x):\n",
    "    return (x**3)/((np.e**x)-1.0)"
   ]
  },
  {
   "cell_type": "code",
   "execution_count": 58,
   "metadata": {},
   "outputs": [],
   "source": [
    "#Define constants\n",
    "c = con.c\n",
    "h = con.h\n",
    "k = con.k\n",
    "T = 500\n",
    "\n",
    "c1 = (2*(np.pi)*(k**4)*(T**4))/((c**2)*(h**3))"
   ]
  },
  {
   "cell_type": "markdown",
   "metadata": {},
   "source": [
    "SIMPSONS RULE"
   ]
  },
  {
   "cell_type": "code",
   "execution_count": 59,
   "metadata": {},
   "outputs": [],
   "source": [
    "#Define integral bounds\n",
    "a = 0.000000001\n",
    "b = 700\n",
    "#Define number of slices\n",
    "N = 100000\n",
    "#Calculate width of each slice\n",
    "H = (b-a)/N\n",
    "\n",
    "#Calculate the first part of the Simpsons method\n",
    "m = f(a) + f(b)\n",
    "\n",
    "#Create a variable to store the first summation portion in Simpsons Rule\n",
    "sum1 = 0\n",
    "\n",
    "#Calculate the first summation in Simpsons Rule\n",
    "for k in range(1,N,2):\n",
    "    sum1 += f(a+(k*H)) \n",
    "\n",
    "#Calculate the second summation in Simpsons Rule\n",
    "for k in range(2,N, 2):\n",
    "    sum2 = f(a+(k*H))\n",
    "    \n",
    "#Calculate W\n",
    "W = c1*(H/3)*(m+4*sum1+2*sum2)\n"
   ]
  },
  {
   "cell_type": "code",
   "execution_count": 64,
   "metadata": {},
   "outputs": [
    {
     "name": "stdout",
     "output_type": "stream",
     "text": [
      "The calculated value of W is: 2362.6560080444747\n",
      "The actual value of W is: 3543.984011875\n",
      "The error between the values is: -0.33333333329726994\n"
     ]
    }
   ],
   "source": [
    "#print results\n",
    "print(\"The calculated value of W is:\", W)\n",
    "print(\"The actual value of W is:\", con.sigma*T**4)\n",
    "print(\"The error between the values is:\", (W-(con.sigma*T**4))/(con.sigma*T**4))"
   ]
  },
  {
   "cell_type": "code",
   "execution_count": null,
   "metadata": {},
   "outputs": [],
   "source": []
  },
  {
   "cell_type": "code",
   "execution_count": null,
   "metadata": {},
   "outputs": [],
   "source": []
  }
 ],
 "metadata": {
  "kernelspec": {
   "display_name": "Python 3",
   "language": "python",
   "name": "python3"
  },
  "language_info": {
   "codemirror_mode": {
    "name": "ipython",
    "version": 3
   },
   "file_extension": ".py",
   "mimetype": "text/x-python",
   "name": "python",
   "nbconvert_exporter": "python",
   "pygments_lexer": "ipython3",
   "version": "3.8.3"
  }
 },
 "nbformat": 4,
 "nbformat_minor": 4
}
