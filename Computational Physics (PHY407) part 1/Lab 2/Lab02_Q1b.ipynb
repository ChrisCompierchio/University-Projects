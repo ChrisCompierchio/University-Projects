{
 "cells": [
  {
   "cell_type": "markdown",
   "metadata": {},
   "source": [
    "Sky Kapoor and Chris Compierchio\n",
    "\n",
    "This program will evaluate the standard deviation of a given dataset. This will be compared to the numpy.std() method of calculating standard deviation. The relative error with respect to numpy.std will also be calculated."
   ]
  },
  {
   "cell_type": "code",
   "execution_count": 7,
   "metadata": {},
   "outputs": [],
   "source": [
    "#import libraries\n",
    "import numpy as np\n",
    "import matplotlib.pyplot as plt\n",
    "%matplotlib inline"
   ]
  },
  {
   "cell_type": "code",
   "execution_count": 8,
   "metadata": {},
   "outputs": [
    {
     "data": {
      "text/plain": [
       "array([299.85, 299.74, 299.9 , 300.07, 299.93, 299.85, 299.95, 299.98,\n",
       "       299.98, 299.88, 300.  , 299.98, 299.93, 299.65, 299.76, 299.81,\n",
       "       300.  , 300.  , 299.96, 299.96, 299.96, 299.94, 299.96, 299.94,\n",
       "       299.88, 299.8 , 299.85, 299.88, 299.9 , 299.84, 299.83, 299.79,\n",
       "       299.81, 299.88, 299.88, 299.83, 299.8 , 299.79, 299.76, 299.8 ,\n",
       "       299.88, 299.88, 299.88, 299.86, 299.72, 299.72, 299.62, 299.86,\n",
       "       299.97, 299.95, 299.88, 299.91, 299.85, 299.87, 299.84, 299.84,\n",
       "       299.85, 299.84, 299.84, 299.84, 299.89, 299.81, 299.81, 299.82,\n",
       "       299.8 , 299.77, 299.76, 299.74, 299.75, 299.76, 299.91, 299.92,\n",
       "       299.89, 299.86, 299.88, 299.72, 299.84, 299.85, 299.85, 299.78,\n",
       "       299.89, 299.84, 299.78, 299.81, 299.76, 299.81, 299.79, 299.81,\n",
       "       299.82, 299.85, 299.87, 299.87, 299.81, 299.74, 299.81, 299.94,\n",
       "       299.95, 299.8 , 299.81, 299.87])"
      ]
     },
     "execution_count": 8,
     "metadata": {},
     "output_type": "execute_result"
    }
   ],
   "source": [
    "#import speed of light data\n",
    "cdata = np.loadtxt('cdata.txt')\n",
    "cdata"
   ]
  },
  {
   "cell_type": "code",
   "execution_count": 9,
   "metadata": {},
   "outputs": [
    {
     "name": "stdout",
     "output_type": "stream",
     "text": [
      "The calculated standard deviation from Eq.1 is: 0.07901017962799678\n",
      "The real standard deviation is: 0.07901054781905067\n",
      "The relative error is: 0.00503313175881098\n"
     ]
    }
   ],
   "source": [
    "#store the sixe of the dataset\n",
    "n = cdata.size\n",
    "#calculate the mean of the dataset\n",
    "mean = (1/n)*np.sum(cdata)\n",
    "#Create a variable csum that will store the sum portion of Eq. 1 from the lab handout.\n",
    "csum = 0\n",
    "\n",
    "#Start a for loop to calculate this sum.\n",
    "for i in range(1,n):\n",
    "    csum += np.sum((cdata[i]-mean)**2)\n",
    "\n",
    "#Use the calculated sum (csum) and Eq. 1 to caluclate the standard deviation of the dataset.\n",
    "std = np.sqrt((1/(n-1))*csum)\n",
    "\n",
    "#Calculate the relative error of this method with respect to numpy.std().\n",
    "re1 = (std-np.std(cdata))/np.std(cdata)\n",
    "\n",
    "#Print results.\n",
    "print(\"The calculated standard deviation from Eq.1 is:\", std)\n",
    "print(\"The real standard deviation is:\", np.std(cdata, ddof = 1))\n",
    "print(\"The relative error is:\", re1)"
   ]
  },
  {
   "cell_type": "code",
   "execution_count": 20,
   "metadata": {},
   "outputs": [
    {
     "name": "stdout",
     "output_type": "stream",
     "text": [
      "The calculated standard deviation from Eq.2 is: 0.07901054811458154\n",
      "The real standard deviation is: 0.07901054781905067\n",
      "The relative error is: 0.005037819018453159\n"
     ]
    }
   ],
   "source": [
    "#Create variables to store the two sum portions of Eq.2.\n",
    "squaredSum = 0\n",
    "avgSum = 0\n",
    "#This will store the standard deviation\n",
    "std2 = 0\n",
    "\n",
    "#Start a for loop to calculate the sums\n",
    "for i in cdata: \n",
    "    squaredSum += i**2 \n",
    "    avgSum += i\n",
    "#calculate standard deviation\n",
    "std2 = np.sqrt((1./(n-1)) * (squaredSum - n*((avgSum/n) ** 2)))\n",
    "\n",
    "#calculate relative error\n",
    "re2 = (std2-np.std(cdata))/np.std(cdata)    \n",
    "\n",
    "#Print results.\n",
    "print(\"The calculated standard deviation from Eq.2 is:\", std2)\n",
    "print(\"The real standard deviation is:\", np.std(cdata, ddof = 1))\n",
    "print(\"The relative error is:\", re2)"
   ]
  },
  {
   "cell_type": "code",
   "execution_count": null,
   "metadata": {},
   "outputs": [],
   "source": []
  },
  {
   "cell_type": "code",
   "execution_count": null,
   "metadata": {},
   "outputs": [],
   "source": []
  }
 ],
 "metadata": {
  "kernelspec": {
   "display_name": "Python 3",
   "language": "python",
   "name": "python3"
  },
  "language_info": {
   "codemirror_mode": {
    "name": "ipython",
    "version": 3
   },
   "file_extension": ".py",
   "mimetype": "text/x-python",
   "name": "python",
   "nbconvert_exporter": "python",
   "pygments_lexer": "ipython3",
   "version": "3.8.3"
  }
 },
 "nbformat": 4,
 "nbformat_minor": 4
}
