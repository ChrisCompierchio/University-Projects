{
 "cells": [
  {
   "cell_type": "markdown",
   "metadata": {},
   "source": [
    "Sky Kapoor and Chris Compierchio\n",
    "\n",
    "This program will compare the trapezoidal rule and Simpson's rule while integrating the function 4/(1+x^2)"
   ]
  },
  {
   "cell_type": "code",
   "execution_count": 37,
   "metadata": {},
   "outputs": [],
   "source": [
    "#import libraries\n",
    "import numpy as np\n",
    "import matplotlib.pyplot as plt\n",
    "%matplotlib inline"
   ]
  },
  {
   "cell_type": "code",
   "execution_count": 38,
   "metadata": {},
   "outputs": [],
   "source": [
    "#Define the function given in the handout\n",
    "def f(x):\n",
    "    return 4/(1+x**2)"
   ]
  },
  {
   "cell_type": "markdown",
   "metadata": {},
   "source": [
    "TRAPEZOID METHOD"
   ]
  },
  {
   "cell_type": "code",
   "execution_count": 39,
   "metadata": {},
   "outputs": [],
   "source": [
    "#Store number of slices\n",
    "N = 4\n",
    "#store bounds\n",
    "a = 0\n",
    "b = 1\n",
    "#store slice width\n",
    "h = (b-a)/N\n",
    "\n",
    "#Calculate the first part of the trapezoid method\n",
    "s = .5*f(a)+0.5*f(b)\n",
    "\n",
    "#Add the sum part of the trapezoid method\n",
    "for i in range(1,N):\n",
    "    s += f(a+i*h)\n",
    "\n",
    "#calculate the integral\n",
    "trap = h*s"
   ]
  },
  {
   "cell_type": "markdown",
   "metadata": {},
   "source": [
    "SIMPSONS RULE"
   ]
  },
  {
   "cell_type": "code",
   "execution_count": 40,
   "metadata": {},
   "outputs": [],
   "source": [
    "#Calculate the first part of the Simpsons method\n",
    "m = f(a) + f(b)\n",
    "\n",
    "#Create a variable to store the first summation portion in SImpsons Rule\n",
    "sum1 = 0\n",
    "\n",
    "#Calculate the first summation in Simpsons Rule\n",
    "for k in range(1,N,2):\n",
    "    sum1 += f(a+(k*h)) \n",
    "\n",
    "#Calculate the first summation in Simpsons Rule\n",
    "for k in range(2,N, 2):\n",
    "    sum2 = f(a+(k*h))\n",
    "    \n",
    "#calculate the integral\n",
    "simp = (h/3)*(m+4*sum1+2*sum2)\n"
   ]
  },
  {
   "cell_type": "code",
   "execution_count": 41,
   "metadata": {},
   "outputs": [
    {
     "name": "stdout",
     "output_type": "stream",
     "text": [
      "The exact value is pi\n",
      "The value using the trapezoidal rule is: 3.1311764705882354\n",
      "The value using the Simpsons rule is: 3.14156862745098\n"
     ]
    }
   ],
   "source": [
    "#print results\n",
    "print(\"The exact value is pi\")\n",
    "print(\"The value using the trapezoidal rule is:\", trap)\n",
    "print(\"The value using the Simpsons rule is:\", simp)"
   ]
  },
  {
   "cell_type": "code",
   "execution_count": null,
   "metadata": {},
   "outputs": [],
   "source": []
  }
 ],
 "metadata": {
  "kernelspec": {
   "display_name": "Python 3",
   "language": "python",
   "name": "python3"
  },
  "language_info": {
   "codemirror_mode": {
    "name": "ipython",
    "version": 3
   },
   "file_extension": ".py",
   "mimetype": "text/x-python",
   "name": "python",
   "nbconvert_exporter": "python",
   "pygments_lexer": "ipython3",
   "version": "3.8.3"
  }
 },
 "nbformat": 4,
 "nbformat_minor": 4
}
