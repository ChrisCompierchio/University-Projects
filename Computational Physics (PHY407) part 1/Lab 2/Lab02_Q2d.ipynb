{
 "cells": [
  {
   "cell_type": "markdown",
   "metadata": {},
   "source": [
    "Sky Kapoor and Chris Compierchio\n",
    "\n",
    "This program will Adapt the “practical estimation of errors” of the textbook to the trapezoidal method only to obtain the error estimation for N2 = 32 (using N1 = 16)"
   ]
  },
  {
   "cell_type": "code",
   "execution_count": 1,
   "metadata": {},
   "outputs": [],
   "source": [
    "#import libraries\n",
    "import numpy as np\n",
    "import matplotlib.pyplot as plt\n",
    "%matplotlib inline\n",
    "import time"
   ]
  },
  {
   "cell_type": "code",
   "execution_count": 2,
   "metadata": {},
   "outputs": [],
   "source": [
    "#Define the function given in the handout\n",
    "def f(x):\n",
    "    return 4/(1+x**2)\n"
   ]
  },
  {
   "cell_type": "markdown",
   "metadata": {},
   "source": [
    "CODE FOR I1"
   ]
  },
  {
   "cell_type": "code",
   "execution_count": 3,
   "metadata": {},
   "outputs": [],
   "source": [
    "#Store number of slices\n",
    "N = 16\n",
    "#store bounds\n",
    "a = 0\n",
    "b = 1\n",
    "#store slice width\n",
    "h = (b-a)/N\n",
    "\n",
    "#Calculate the first part of the trapezoid method\n",
    "s = .5*f(a)+0.5*f(b)\n",
    "\n",
    "#Add the sum part of the trapezoid method\n",
    "for i in range(1,N):\n",
    "    s += f(a+i*h)\n",
    "\n",
    "#calculate the integral\n",
    "I1 = h*s"
   ]
  },
  {
   "cell_type": "markdown",
   "metadata": {},
   "source": [
    "CODE FOR I2"
   ]
  },
  {
   "cell_type": "code",
   "execution_count": 4,
   "metadata": {},
   "outputs": [],
   "source": [
    "#Store number of slices\n",
    "N = 32\n",
    "#store bounds\n",
    "a = 0\n",
    "b = 1\n",
    "#store slice width\n",
    "h = (b-a)/N\n",
    "\n",
    "#Calculate the first part of the trapezoid method\n",
    "s = .5*f(a)+0.5*f(b)\n",
    "\n",
    "#Add the sum part of the trapezoid method\n",
    "for i in range(1,N):\n",
    "    s += f(a+i*h)\n",
    "\n",
    "#calculate the integral\n",
    "I2 = h*s"
   ]
  },
  {
   "cell_type": "code",
   "execution_count": 7,
   "metadata": {},
   "outputs": [
    {
     "name": "stdout",
     "output_type": "stream",
     "text": [
      "The Practical Estimation of Errors is: 0.00016276037786200348\n"
     ]
    }
   ],
   "source": [
    "#calulate the practical estimation of errors\n",
    "error = (1/3)*(I2-I1)\n",
    "print(\"The Practical Estimation of Errors is:\", error)"
   ]
  },
  {
   "cell_type": "code",
   "execution_count": null,
   "metadata": {},
   "outputs": [],
   "source": []
  }
 ],
 "metadata": {
  "kernelspec": {
   "display_name": "Python 3",
   "language": "python",
   "name": "python3"
  },
  "language_info": {
   "codemirror_mode": {
    "name": "ipython",
    "version": 3
   },
   "file_extension": ".py",
   "mimetype": "text/x-python",
   "name": "python",
   "nbconvert_exporter": "python",
   "pygments_lexer": "ipython3",
   "version": "3.8.3"
  }
 },
 "nbformat": 4,
 "nbformat_minor": 4
}
