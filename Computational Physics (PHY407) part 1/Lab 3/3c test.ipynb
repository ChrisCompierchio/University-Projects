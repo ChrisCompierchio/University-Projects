{
 "cells": [
  {
   "cell_type": "code",
   "execution_count": 74,
   "metadata": {},
   "outputs": [],
   "source": [
    "#import libraries\n",
    "import numpy as np\n",
    "import matplotlib.pyplot as plt\n",
    "import math\n",
    "from gaussxw import gaussxw"
   ]
  },
  {
   "cell_type": "code",
   "execution_count": 82,
   "metadata": {},
   "outputs": [],
   "source": [
    "def gaussxwab(N,a,b):\n",
    "    x,w = gaussxw(N)\n",
    "    return 0.5*(b-a)*x+0.5*(b+a),0.5*(b-a)*w"
   ]
  },
  {
   "cell_type": "code",
   "execution_count": 83,
   "metadata": {},
   "outputs": [],
   "source": [
    "#Define n\n",
    "n = range(4)\n",
    "#Define x\n",
    "x = np.linspace(-4,4, 100)\n",
    "\n",
    "#Define the hermite function\n",
    "def H(N, X):\n",
    "    if N == 0:\n",
    "        h1 = np.ones(X.shape)\n",
    "    elif N == 1:\n",
    "        h1 = 2*X\n",
    "    elif N > 1:\n",
    "        h0 = 1\n",
    "        h1 = 2*X\n",
    "        for q in range(1, N):\n",
    "            h0, h1 = h1, 2*X*h1 - 2*q*h0\n",
    "    return h1\n",
    "\n",
    "#Define psi\n",
    "def psi(N2, X2):\n",
    "    part1 = 1/(np.sqrt((2**N2)*(math.factorial(N2))*np.sqrt(np.pi)))\n",
    "    part2 = np.exp((-X2**2)/2)\n",
    "    return part1*part2*H(N2,X2)"
   ]
  },
  {
   "cell_type": "code",
   "execution_count": 93,
   "metadata": {},
   "outputs": [],
   "source": [
    "def position(num, pos):\n",
    "    t = np.tan(pos)\n",
    "    c = np.cos(pos)\n",
    "    position = (pos**2)*np.abs(psi(num, pos))**2 \n",
    "    return position\n",
    "\n",
    "def momentum(num, pos):\n",
    "    h = 10**(-8)\n",
    "    momentum = np.abs(((psi(num, pos + h))-psi(num, pos - h))/h)\n",
    "    return momentum\n",
    "\n",
    "def energy(pos, mom):\n",
    "    energy = .5*(pos + mom)\n",
    "    return energy\n",
    "\n",
    "def rmsPos(pos):\n",
    "    return np.sqrt(pos)\n",
    "\n",
    "def rmsMom(mom):\n",
    "    return np.sqrt(mom)"
   ]
  },
  {
   "cell_type": "code",
   "execution_count": 95,
   "metadata": {},
   "outputs": [
    {
     "data": {
      "text/plain": [
       "array([0.05633176, 0.06472594, 0.01235444, 0.09057437, 0.10714516,\n",
       "       0.05892853, 0.09846615, 0.113496  , 0.01868041, 0.11688423,\n",
       "       0.1028874 , 0.08378213, 0.12610837, 0.05366523, 0.12184083,\n",
       "       0.10883923])"
      ]
     },
     "execution_count": 95,
     "metadata": {},
     "output_type": "execute_result"
    }
   ],
   "source": [
    "\n",
    "n = range(16)\n",
    "\n",
    "A = 100\n",
    "\n",
    "a = -np.pi/2\n",
    "b = np.pi/2\n",
    "\n",
    "x,w = gaussxwab(A, a, b)\n",
    "\n",
    "s=np.zeros(16)\n",
    "for k in range(16):\n",
    "    for j in range(A):\n",
    "        s[k] = w[j]*position(k, x[j])\n",
    "\n",
    "\n",
    "t=np.zeros(16)\n",
    "for k in range(16):\n",
    "    for j in range(A):\n",
    "        t[k] = 4*wp[j]*momentum(k, xp[j])\n",
    "\n",
    "\n",
    "energies = energy(s,t)\n",
    "\n",
    "rmsPositions = rmsPos(s)\n",
    "\n",
    "rmsMomentums = rmsMom(t)"
   ]
  },
  {
   "cell_type": "code",
   "execution_count": null,
   "metadata": {},
   "outputs": [],
   "source": []
  }
 ],
 "metadata": {
  "kernelspec": {
   "display_name": "Python 3",
   "language": "python",
   "name": "python3"
  },
  "language_info": {
   "codemirror_mode": {
    "name": "ipython",
    "version": 3
   },
   "file_extension": ".py",
   "mimetype": "text/x-python",
   "name": "python",
   "nbconvert_exporter": "python",
   "pygments_lexer": "ipython3",
   "version": "3.8.3"
  }
 },
 "nbformat": 4,
 "nbformat_minor": 4
}
