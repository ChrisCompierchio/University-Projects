{
 "cells": [
  {
   "cell_type": "code",
   "execution_count": 1,
   "metadata": {},
   "outputs": [],
   "source": [
    "import numpy as np\n",
    "import matplotlib.pyplot as plt\n",
    "plt.rcParams.update({'font.size': 16})\n",
    "from numpy.linalg import solve"
   ]
  },
  {
   "cell_type": "code",
   "execution_count": 2,
   "metadata": {},
   "outputs": [],
   "source": [
    "L = 1e-8\n",
    "m = 9.109e-31\n",
    "sigma = L/25\n",
    "kappa = 500/L\n",
    "omega = 3e15\n",
    "x = np.linspace(-L/2, L/2, 1024)\n",
    "x = x[1:-1]\n",
    "a = x[1] - x[0]\n",
    "tau = 1e-18\n",
    "hbar = 6.62607015e-34 / (2*np.pi)\n",
    "V0 = 6e-17\n",
    "x1 = L/4\n",
    "\n",
    "def normal(phi, x):\n",
    "    \"\"\" Function to calculate normalization factor of wave function\n",
    "    INPUT:\n",
    "        phi[float]: wavefunction\n",
    "        x[float]: position array\n",
    "    OUTPUT:\n",
    "        phi0[float]: normalization factor\n",
    "    \"\"\"\n",
    "    phi0 = np.sqrt( np.sum(np.conj(phi)*phi*a) )\n",
    "    return phi0\n",
    "\n",
    "\n",
    "def pdf(phi):\n",
    "    \"\"\" Function to calculate probability density function of wave function\n",
    "    INPUT:\n",
    "        phi[float]: wavefunction\n",
    "    OUTPUT:\n",
    "        pdf[float]: probability density function\n",
    "    \"\"\"\n",
    "    pdf = np.conj(phi)*phi\n",
    "    return pdf\n",
    "\n",
    "\n",
    "def energy(phi, HD):\n",
    "    \"\"\" Function to calculate energy of wave function\n",
    "    INPUT:\n",
    "        phi[float]: wavefunction\n",
    "        HD[2d array]: Hamiltonian matrix\n",
    "    OUTPUT:\n",
    "        E[float]: energy\n",
    "    \"\"\"\n",
    "    E = np.matmul(HD, phi)\n",
    "    E = np.conj(phi)*E\n",
    "    E = np.sum( E * a)\n",
    "    return E\n",
    "\n",
    "def xhat(phi, x):\n",
    "    \"\"\" Function to calculate energy of wave function\n",
    "    INPUT:\n",
    "        phi[float]: wavefunction\n",
    "        x[float]: position array\n",
    "    OUTPUT:\n",
    "        xexp[float]: expected location <X>\n",
    "    \"\"\"\n",
    "    xexp = np.sum( np.conj(phi)*x*phi * a)\n",
    "    return xexp\n",
    "\n",
    "\n",
    "\n",
    "def square(x):\n",
    "    \"\"\" Function to calculate square potential\n",
    "    INPUT:\n",
    "        x[float]: position array\n",
    "    OUTPUT:\n",
    "        V[float]: potential\n",
    "    \"\"\"\n",
    "    V = np.zeros((1022))\n",
    "    return V\n",
    "\n",
    "\n",
    "def oscillator(x):\n",
    "    \"\"\" Function to calculate harmonic potential\n",
    "    INPUT:\n",
    "        x[float]: position array\n",
    "    OUTPUT:\n",
    "        V[float]: potential\n",
    "    \"\"\"\n",
    "    V = np.zeros((1022))\n",
    "    V[:] = 1/2*m*omega**2*x**2\n",
    "    return V\n",
    "    \n",
    "def double(x):\n",
    "    \"\"\" Function to calculate double-wall potential\n",
    "    INPUT:\n",
    "        x[float]: position array\n",
    "    OUTPUT:\n",
    "        V[float]: potential\n",
    "    \"\"\"\n",
    "    V = np.zeros((1022))\n",
    "    V[:] = V0* ((x**2)/(x1) - 1)**2\n",
    "    return V\n",
    "\n",
    "\n",
    "def hamilt(V):\n",
    "    \"\"\" Function to calculate Hamiltonian matrix\n",
    "    INPUT:\n",
    "        x[float]: position array\n",
    "        V[float]: potential\n",
    "    OUTPUT:\n",
    "        hd[2d array]: Halmiltonian matrix\n",
    "    \"\"\"\n",
    "    A = -hbar**2/(2*m*a**2)\n",
    "    B = V - 2*A\n",
    "    D = np.diag(B, k=0)\n",
    "    sup = A*np.eye(1022, k=1)\n",
    "    sub = A*np.eye(1022, k=-1)\n",
    "    hd = D + sub + sup\n",
    "    return hd"
   ]
  },
  {
   "cell_type": "code",
   "execution_count": 4,
   "metadata": {},
   "outputs": [
    {
     "name": "stderr",
     "output_type": "stream",
     "text": [
      "<ipython-input-4-21ce8ba17fa8>:37: ComplexWarning: Casting complex values to real discards the imaginary part\n",
      "  phis[0] = phi\n",
      "<ipython-input-4-21ce8ba17fa8>:47: ComplexWarning: Casting complex values to real discards the imaginary part\n",
      "  phis[counter] = phi\n"
     ]
    }
   ],
   "source": [
    "L = 1e-8\n",
    "m = 9.109e-31\n",
    "sigma = L/25\n",
    "kappa = 500/L\n",
    "tau = 1e-18\n",
    "hbar = 6.62607015e-34 / (2*np.pi)\n",
    "\n",
    "\n",
    "# define array of positions\n",
    "x = np.linspace(-L/2, L/2, 1024)\n",
    "x = x[1:-1]\n",
    "a = x[1] - x[0]\n",
    "\n",
    "# time steps and initial positon\n",
    "N = 4000\n",
    "x0 = L/5\n",
    "T = np.arange(tau, (N+1)*tau, tau)\n",
    "\n",
    "\n",
    "# calculate initial condition of wavefunction\n",
    "phi = np.exp( -(x - x0)**2/(4*sigma)**2 + 1j*kappa*x )\n",
    "phi0 = normal(phi, x)\n",
    "phi = phi/phi0\n",
    "\n",
    "# define potential\n",
    "V = oscillator(x)\n",
    "# calculate Hamiltanion matrix\n",
    "HD = hamilt(V)\n",
    "Lmat = np.eye(1022) + 1j*tau/(2*hbar)*HD\n",
    "Rmat = np.eye(1022) - 1j*tau/(2*hbar)*HD\n",
    "\n",
    "# define arrays for outputs\n",
    "phi0s = []\n",
    "Es = []\n",
    "xexps = [] \n",
    "phis = np.zeros((len(T) + 1, len(phi)))\n",
    "phis[0] = phi\n",
    "\n",
    "# loop over to solve PDF\n",
    "counter=1\n",
    "for tnow in T:\n",
    "    v = np.matmul(Rmat, phi)\n",
    "    phi = solve(Lmat, v)\n",
    "    phi0s.append( normal(phi, x) )\n",
    "    Es.append( energy(phi, HD) )\n",
    "    xexps.append( xhat(phi, x) )\n",
    "    phis[counter] = phi\n",
    "    counter += 1"
   ]
  },
  {
   "cell_type": "code",
   "execution_count": 5,
   "metadata": {},
   "outputs": [
    {
     "name": "stderr",
     "output_type": "stream",
     "text": [
      "C:\\Users\\chris\\anaconda3\\lib\\site-packages\\numpy\\core\\_asarray.py:85: ComplexWarning: Casting complex values to real discards the imaginary part\n",
      "  return array(a, dtype, copy=False, order=order)\n"
     ]
    },
    {
     "data": {
      "text/plain": [
       "[<matplotlib.lines.Line2D at 0x2c3f0740940>]"
      ]
     },
     "execution_count": 5,
     "metadata": {},
     "output_type": "execute_result"
    },
    {
     "data": {
      "image/png": "[encoded data removed]",
      "text/plain": [
       "<Figure size 432x288 with 1 Axes>"
      ]
     },
     "metadata": {
      "needs_background": "light"
     },
     "output_type": "display_data"
    }
   ],
   "source": [
    "plt.plot(T, xexps)"
   ]
  },
  {
   "cell_type": "code",
   "execution_count": null,
   "metadata": {},
   "outputs": [],
   "source": []
  }
 ],
 "metadata": {
  "kernelspec": {
   "display_name": "Python 3",
   "language": "python",
   "name": "python3"
  },
  "language_info": {
   "codemirror_mode": {
    "name": "ipython",
    "version": 3
   },
   "file_extension": ".py",
   "mimetype": "text/x-python",
   "name": "python",
   "nbconvert_exporter": "python",
   "pygments_lexer": "ipython3",
   "version": "3.8.3"
  }
 },
 "nbformat": 4,
 "nbformat_minor": 4
}
