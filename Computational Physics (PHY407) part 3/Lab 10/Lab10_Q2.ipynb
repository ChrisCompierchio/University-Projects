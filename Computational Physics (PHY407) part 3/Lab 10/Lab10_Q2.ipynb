{
 "cells": [
  {
   "cell_type": "markdown",
   "metadata": {},
   "source": [
    "Sky Kapoor and Chris Compierchio\n",
    "\n",
    "This program will estimate the volume of a sphere in 10 dimensions using a Monte-Carlo method."
   ]
  },
  {
   "cell_type": "code",
   "execution_count": 1,
   "metadata": {},
   "outputs": [],
   "source": [
    "#import libraries\n",
    "import numpy as np\n",
    "import matplotlib.pyplot as plt\n",
    "from scipy import constants as c\n",
    "plt.rcParams.update({'font.size': 16})"
   ]
  },
  {
   "cell_type": "code",
   "execution_count": 19,
   "metadata": {},
   "outputs": [
    {
     "data": {
      "text/plain": [
       "2.589696"
      ]
     },
     "execution_count": 19,
     "metadata": {},
     "output_type": "execute_result"
    }
   ],
   "source": [
    "#define dimension of sphere\n",
    "N = 10\n",
    "#define points in sphere and the total points\n",
    "points_in_sphere = 0\n",
    "total_points = 1000000\n",
    "\n",
    "#randomly generate points and see if they are in the hypersphere\n",
    "for i in range(total_points):\n",
    "    coord = np.random.uniform(-1,1, 10)\n",
    "    length = np.linalg.norm(coord)\n",
    "    if (length) <= 1:\n",
    "        points_in_sphere += 1\n",
    "        \n",
    "#calculate the average volume\n",
    "Vavg = (2**N)*points_in_sphere/total_points\n",
    "Vavg"
   ]
  },
  {
   "cell_type": "code",
   "execution_count": null,
   "metadata": {},
   "outputs": [],
   "source": []
  }
 ],
 "metadata": {
  "kernelspec": {
   "display_name": "Python 3",
   "language": "python",
   "name": "python3"
  },
  "language_info": {
   "codemirror_mode": {
    "name": "ipython",
    "version": 3
   },
   "file_extension": ".py",
   "mimetype": "text/x-python",
   "name": "python",
   "nbconvert_exporter": "python",
   "pygments_lexer": "ipython3",
   "version": "3.8.3"
  }
 },
 "nbformat": 4,
 "nbformat_minor": 4
}
