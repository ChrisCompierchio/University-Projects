{
 "cells": [
  {
   "cell_type": "markdown",
   "metadata": {},
   "source": [
    "EXERCISE 1 - GLYCERINE"
   ]
  },
  {
   "cell_type": "code",
   "execution_count": 1,
   "metadata": {},
   "outputs": [],
   "source": [
    "#import libraries\n",
    "import numpy as np\n",
    "from scipy.optimize import curve_fit\n",
    "import matplotlib.pyplot as plt\n",
    "%matplotlib inline"
   ]
  },
  {
   "cell_type": "code",
   "execution_count": 2,
   "metadata": {},
   "outputs": [],
   "source": [
    "#define a linear model function\n",
    "def f(x, a, b):\n",
    "    return (a*x + b)\n",
    "#define the velocity correction function\n",
    "def vcorr(v, r, D):\n",
    "    return v/(1-(2.104*(2*r/D))+(2.089*((2*r/D)**2)))\n",
    "#define the function for the glycerine terminl velocity\n",
    "def vglycerine(r, a, b):\n",
    "    return a*(r**2) + b\n",
    "#define reduced chi-squared function\n",
    "def chi(N, n, yi, xi, sigma_i, m, b):\n",
    "    v = N-n\n",
    "    chi = np.sum(((yi-vglycerine(xi, m, b))**2)/(sigma_i**2))\n",
    "    chi = chi/v\n",
    "    return chi"
   ]
  },
  {
   "cell_type": "code",
   "execution_count": 3,
   "metadata": {},
   "outputs": [],
   "source": [
    "#define varibles to run through the columns in the csv file\n",
    "col1 = 0\n",
    "col2 = 1\n",
    "#define 2D arrays for position and time from the csv files\n",
    "xdata_g = np.zeros((16, 479))\n",
    "ydata_g = np.zeros((16, 479))\n",
    "\n",
    "#run through the rows and columns and store the data in the 2D arrays\n",
    "for i in range(0,15):\n",
    "    x, y = np.loadtxt(\"glycerine data.csv\", skiprows = 0, usecols = (col1, col2), delimiter = ',', unpack = True)\n",
    "    for j in range(0, 83):\n",
    "        xdata_g[i][j] = x[j]\n",
    "    for k in range(0, 83):\n",
    "        ydata_g[i][k] = y[k]\n",
    "    col1+=2\n",
    "    col2+=2   "
   ]
  },
  {
   "cell_type": "code",
   "execution_count": 4,
   "metadata": {},
   "outputs": [],
   "source": [
    "#import the radii and radius errors\n",
    "radii_w, radii_g, r_err = np.loadtxt(\"bead radii.csv\", skiprows = 0, delimiter = ',', unpack = True)"
   ]
  },
  {
   "cell_type": "code",
   "execution_count": 5,
   "metadata": {},
   "outputs": [],
   "source": [
    "#define position and time errors\n",
    "position_err = 0.001\n",
    "time_err = 0.01\n",
    "#create an array to store the m_opts of each pair of columns in the 2D arrays above\n",
    "slopes = np.zeros(15)\n",
    "#error in the m_opts\n",
    "slopes_err = np.zeros(15)\n",
    "#create array to store the optimal intercepts from the curvefits of the position vs time data\n",
    "ints = np.zeros(15)\n",
    "\n",
    "#loop through the position and time data to curvefit each pair and stor the optimal slope and intercepts\n",
    "for k in range(0,15):\n",
    "    i=0\n",
    "    while xdata_g[k][i] != 0 or ydata_g[k][i] != 0:\n",
    "\n",
    "        i+=1\n",
    "    #make an array of sigmas so it's the same shape as the x and y data\n",
    "    sig = np.zeros(i-1)\n",
    "    for j in range(0, i-1):\n",
    "        sig[j] = 0.001\n",
    "\n",
    "    #store opt and cov parameters\n",
    "    p_opt, p_cov = curve_fit(f, xdata_g[k][0:i-1], ydata_g[k][0:i-1], p0 = (1,1), sigma = sig, absolute_sigma = True)\n",
    "    m_opt = p_opt[0]\n",
    "    b_opt = p_opt[1]\n",
    "    \n",
    "    #store slopes and intercepts\n",
    "    slopes[k] = m_opt\n",
    "    ints[k] = b_opt\n"
   ]
  },
  {
   "cell_type": "code",
   "execution_count": 6,
   "metadata": {},
   "outputs": [
    {
     "data": {
      "text/plain": [
       "<matplotlib.legend.Legend at 0x16d8681d520>"
      ]
     },
     "execution_count": 6,
     "metadata": {},
     "output_type": "execute_result"
    },
    {
     "data": {
      "image/png": "[encoded data removed]",
      "text/plain": [
       "<Figure size 432x288 with 1 Axes>"
      ]
     },
     "metadata": {
      "needs_background": "light"
     },
     "output_type": "display_data"
    }
   ],
   "source": [
    "#plot a sample plot of the position vs time data\n",
    "plt.scatter(xdata_g[13][0:38], ydata_g[13][0:38], label = \"Data\")\n",
    "plt.plot(xdata_g[13][0:38], f(xdata_g[13][0:38], slopes[13], ints[13]), color = \"orange\", label = \"Curve Fit\")\n",
    "plt.xlabel(\"Time (s)\")\n",
    "plt.ylabel(\"Position (mm)\")\n",
    "plt.title(\"Position Vs Time of a Bead in Glycerine\")\n",
    "\n",
    "plt.legend(loc = \"best\")\n"
   ]
  },
  {
   "cell_type": "code",
   "execution_count": 7,
   "metadata": {},
   "outputs": [],
   "source": [
    "#correct the terminal velocities found above\n",
    "v_corr = np.zeros(15)\n",
    "for num in range(0,3):\n",
    "    v_corr[num]=vcorr(slopes[num], radii_g[0], 96)\n",
    "for num in range(3,6):\n",
    "    v_corr[num]=vcorr(slopes[num], radii_g[1], 96)\n",
    "for num in range(6,9):\n",
    "    v_corr[num]=vcorr(slopes[num], radii_g[2], 96)\n",
    "for num in range(9,12):\n",
    "    v_corr[num]=vcorr(slopes[num], radii_g[3], 96)\n",
    "for num in range(12,15):\n",
    "    v_corr[num]=vcorr(slopes[num], radii_g[4], 96)\n",
    "\n",
    "#find the average of the coreected velocities\n",
    "v_mean = np.zeros(5)\n",
    "v_mean[0] = np.mean(v_corr[0:3])\n",
    "v_mean[1] = np.mean(v_corr[3:6])\n",
    "v_mean[2] = np.mean(v_corr[6:9])\n",
    "v_mean[3] = np.mean(v_corr[9:12])\n",
    "v_mean[4] = np.mean(v_corr[12:15])\n",
    "\n",
    "#calculate the error in the mean velocities\n",
    "v_mean_err = np.zeros(5)\n",
    "v_mean_err[0] = np.std(v_corr[0:3])/np.sqrt(3)\n",
    "v_mean_err[1] = np.std(v_corr[3:6])/np.sqrt(3)\n",
    "v_mean_err[2] = np.std(v_corr[6:9])/np.sqrt(3)\n",
    "v_mean_err[3] = np.std(v_corr[9:12])/np.sqrt(3)\n",
    "v_mean_err[4] = np.std(v_corr[12:15])/np.sqrt(3)"
   ]
  },
  {
   "cell_type": "code",
   "execution_count": 8,
   "metadata": {
    "scrolled": true
   },
   "outputs": [
    {
     "data": {
      "text/plain": [
       "<matplotlib.legend.Legend at 0x16d87434220>"
      ]
     },
     "execution_count": 8,
     "metadata": {},
     "output_type": "execute_result"
    },
    {
     "data": {
      "image/png": "[encoded data removed]",
      "text/plain": [
       "<Figure size 432x288 with 1 Axes>"
      ]
     },
     "metadata": {
      "needs_background": "light"
     },
     "output_type": "display_data"
    }
   ],
   "source": [
    "#plot the mean terminal velocities against radius with the curvefits and errorbars\n",
    "plt.scatter(radii_g, v_mean, label = \"Data\")\n",
    "\n",
    "p_optg, p_covg = curve_fit(vglycerine, radii_g, v_mean, p0 = (5,5),  sigma = v_mean_err, absolute_sigma = True)\n",
    "a = p_optg[0]\n",
    "b = p_optg[1]\n",
    "plt.plot(radii_g, vglycerine(radii_g, a, b), color = \"orange\", label = \"Curve Fit\")\n",
    "\n",
    "plt.title(\"Corrected Velocity vs Radius for Beads in Glycerine\")\n",
    "plt.xlabel(\"Radius(mm)\")\n",
    "plt.ylabel(\"Velocity(mm/s)\")\n",
    "\n",
    "plt.errorbar(radii_g, v_mean, yerr=v_mean_err, color = \"black\", ls=\"none\", label = \"Error Bars\")\n",
    "\n",
    "plt.legend(loc = \"best\")"
   ]
  },
  {
   "cell_type": "code",
   "execution_count": 9,
   "metadata": {},
   "outputs": [],
   "source": [
    "#calculate the rydberg constants and errors\n",
    "R = (((2*radii_g)/10)*v_mean/10)/0.01\n",
    "R_err = (v_mean/10)*(2*radii_g/10)*np.sqrt(((0.1/(2*radii_g/10)**2)+((v_mean_err/(v_mean/10)**2))))\n"
   ]
  },
  {
   "cell_type": "code",
   "execution_count": 11,
   "metadata": {},
   "outputs": [
    {
     "data": {
      "text/plain": [
       "124.71712181464899"
      ]
     },
     "execution_count": 11,
     "metadata": {},
     "output_type": "execute_result"
    }
   ],
   "source": [
    "#calculate reuced chi-squared\n",
    "chi(v_corr.size,2,v_mean,radii_g,v_mean_err,a,b)"
   ]
  },
  {
   "cell_type": "code",
   "execution_count": null,
   "metadata": {},
   "outputs": [],
   "source": []
  }
 ],
 "metadata": {
  "kernelspec": {
   "display_name": "Python 3",
   "language": "python",
   "name": "python3"
  },
  "language_info": {
   "codemirror_mode": {
    "name": "ipython",
    "version": 3
   },
   "file_extension": ".py",
   "mimetype": "text/x-python",
   "name": "python",
   "nbconvert_exporter": "python",
   "pygments_lexer": "ipython3",
   "version": "3.8.3"
  }
 },
 "nbformat": 4,
 "nbformat_minor": 4
}
