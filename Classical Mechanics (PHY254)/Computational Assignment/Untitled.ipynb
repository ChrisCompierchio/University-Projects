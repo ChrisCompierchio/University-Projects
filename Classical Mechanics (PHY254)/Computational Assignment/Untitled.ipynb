{
 "cells": [
  {
   "cell_type": "code",
   "execution_count": 1,
   "metadata": {},
   "outputs": [],
   "source": [
    "#import libraries\n",
    "from pylab import *\n",
    "from scipy.integrate import odeint\n",
    "import matplotlib\n",
    "import matplotlib.pyplot as plt\n",
    "%matplotlib inline\n",
    "from scipy.signal import argrelmax\n",
    "import poincare\n",
    "from scipy import interpolate\n",
    "from scipy import optimize\n",
    "from numpy import *\n",
    "import math"
   ]
  },
  {
   "cell_type": "code",
   "execution_count": 57,
   "metadata": {},
   "outputs": [
    {
     "name": "stdout",
     "output_type": "stream",
     "text": [
      "[2.         2.00000648 2.00002584 ... 1.4399728  1.43887651 1.43778462] [ 0.          0.01294164  0.02576705 ... -1.09847608 -1.09409542\n",
      " -1.08967782]\n"
     ]
    }
   ],
   "source": [
    "mu = 3\n",
    "A = 15\n",
    "w = 4.07\n",
    "dt = 0.001\n",
    "t = np.arange(0,100,dt)\n",
    "ics = [2,0]\n",
    "\n",
    "def deriv(xv0, t):\n",
    "    x = xv0[0]\n",
    "    v = xv0[1]\n",
    "    \n",
    "    vdot = mu*(1-x**2)*v-x + (A*cos(w*t))\n",
    "    return(v, vdot)\n",
    "\n",
    "solutions = odeint(deriv, ics, t)\n",
    "\n",
    "x = solutions[:,0]\n",
    "v = solutions[:,1]\n",
    "\n",
    "print(x,v)"
   ]
  },
  {
   "cell_type": "code",
   "execution_count": 62,
   "metadata": {},
   "outputs": [
    {
     "data": {
      "text/plain": [
       "<matplotlib.collections.PathCollection at 0x1fb800e37f0>"
      ]
     },
     "execution_count": 62,
     "metadata": {},
     "output_type": "execute_result"
    },
    {
     "data": {
      "image/png": "[encoded data removed]",
      "text/plain": [
       "<Figure size 432x288 with 1 Axes>"
      ]
     },
     "metadata": {
      "needs_background": "light"
     },
     "output_type": "display_data"
    }
   ],
   "source": [
    "def poincaresection(x,xdot,phi,t,omega,phimod2pi):\n",
    "\n",
    "    xinterp = interpolate.UnivariateSpline(t, x, s=0, k=3)\n",
    "    xdotinterp = interpolate.UnivariateSpline(t, xdot, s=0, k=3)\n",
    "    \n",
    "    tmax=t[-1]\n",
    "    \n",
    "    numzeros=int(floor((tmax*omega)/(2*math.pi)))\n",
    "        \n",
    "    phiroot=0\n",
    "    i=1\n",
    "    \n",
    "    xpoincare=zeros(numzeros)\n",
    "    xdotpoincare=zeros(numzeros)\n",
    "    \n",
    "    while True:\n",
    "        phiroot=2*math.pi*i/omega+phimod2pi/omega\n",
    "        \n",
    "        if phiroot>tmax:\n",
    "            break\n",
    "            \n",
    "        xpoincare[i-1]=xinterp(phiroot)\n",
    "        xdotpoincare[i-1]=xdotinterp(phiroot)\n",
    "        i=i+1\n",
    "\n",
    "        cutoff = int(numzeros/2)\n",
    "        return [xpoincare[cutoff:],xdotpoincare[cutoff:]]\n",
    "\n",
    "phimod2 = 0\n",
    "phi = w*t\n",
    "\n",
    "xpc, xdotpc = poincaresection(x,v,phi,t,w,phimod2)\n",
    "\n",
    "figure(2)\n",
    "scatter(ics[0], ics[1])\n",
    "scatter(xpc, xdotpc)\n",
    "# scatter(xpc, xdotpc)\n",
    "# plt.xlabel(\"x\")\n",
    "# plt.ylabel(\"xdot\")\n",
    "# plt.title(\"Poincare Section\")\n",
    "# plt.savefig(\"PS 4098\")"
   ]
  },
  {
   "cell_type": "code",
   "execution_count": null,
   "metadata": {},
   "outputs": [],
   "source": []
  }
 ],
 "metadata": {
  "kernelspec": {
   "display_name": "Python 3",
   "language": "python",
   "name": "python3"
  },
  "language_info": {
   "codemirror_mode": {
    "name": "ipython",
    "version": 3
   },
   "file_extension": ".py",
   "mimetype": "text/x-python",
   "name": "python",
   "nbconvert_exporter": "python",
   "pygments_lexer": "ipython3",
   "version": "3.8.3"
  }
 },
 "nbformat": 4,
 "nbformat_minor": 4
}
