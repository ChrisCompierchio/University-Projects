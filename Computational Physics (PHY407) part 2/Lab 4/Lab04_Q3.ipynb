{
 "cells": [
  {
   "cell_type": "markdown",
   "metadata": {},
   "source": [
    "Sky Kapoor and Chris Compierchio\n",
    "\n",
    "This Program will complee textbook exercises 6.10, 6.11, and 6.13"
   ]
  },
  {
   "cell_type": "code",
   "execution_count": 2,
   "metadata": {},
   "outputs": [],
   "source": [
    "#Import Libraries\n",
    "import numpy as np\n",
    "import matplotlib.pyplot as plt\n",
    "from scipy import constants as con"
   ]
  },
  {
   "cell_type": "markdown",
   "metadata": {},
   "source": [
    "PART A"
   ]
  },
  {
   "cell_type": "code",
   "execution_count": 15,
   "metadata": {},
   "outputs": [
    {
     "name": "stdout",
     "output_type": "stream",
     "text": [
      "0.8646647167633873\n",
      "0.8225966691808597\n",
      "0.8070247503317746\n",
      "0.8009201942366403\n",
      "0.7984747083247583\n",
      "0.7974866394625985\n",
      "0.797086049491047\n",
      "0.796923413762181\n",
      "0.7968573480008734\n",
      "0.7968305046795713\n",
      "0.7968195968986895\n",
      "0.7968151643557075\n",
      "0.7968133630966887\n",
      "0.7968126311118457\n",
      "0.7968123336514794\n"
     ]
    }
   ],
   "source": [
    "#Define x and c\n",
    "x = 1\n",
    "c = 2\n",
    "#Calculate x for an accuracy of 10e-6\n",
    "for i in range(100):\n",
    "    x = 1 - np.exp(-c*x)\n",
    "    print(x)\n",
    "    if round(x, 6) == 0.796812:\n",
    "        break\n",
    "    "
   ]
  },
  {
   "cell_type": "code",
   "execution_count": 9,
   "metadata": {},
   "outputs": [
    {
     "data": {
      "image/png": "[encoded data removed]",
      "text/plain": [
       "<Figure size 432x288 with 1 Axes>"
      ]
     },
     "metadata": {
      "needs_background": "light"
     },
     "output_type": "display_data"
    }
   ],
   "source": [
    "#Repeat but plot for C = 0-3\n",
    "x = 1\n",
    "c = np.arange(0,3,0.01)\n",
    "for i in range(100):\n",
    "    x = 1 - np.exp(-c*x)\n",
    "plt.plot(c,x)\n",
    "plt.title(\"c as a function of x\", fontsize = \"16\")\n",
    "plt.xlabel(\"c\", fontsize = \"16\")\n",
    "plt.ylabel(\"x\", fontsize = \"16\")\n",
    "plt.show()"
   ]
  },
  {
   "cell_type": "markdown",
   "metadata": {},
   "source": [
    "PART B"
   ]
  },
  {
   "cell_type": "code",
   "execution_count": 15,
   "metadata": {},
   "outputs": [
    {
     "name": "stdout",
     "output_type": "stream",
     "text": [
      "0\n",
      "1\n",
      "2\n",
      "3\n",
      "4\n",
      "5\n",
      "6\n",
      "7\n",
      "8\n",
      "9\n",
      "10\n",
      "11\n",
      "12\n",
      "13\n",
      "14\n"
     ]
    }
   ],
   "source": [
    "#Repeat but print the iterations it takes to get to an accuracy of 10e-6\n",
    "x = 1\n",
    "c = 2\n",
    "for i in range(100):\n",
    "    x = 1 - np.exp(-c*x)\n",
    "    print(i)\n",
    "    if round(x, 6) == 0.796812:\n",
    "        break"
   ]
  },
  {
   "cell_type": "code",
   "execution_count": 32,
   "metadata": {},
   "outputs": [
    {
     "name": "stdout",
     "output_type": "stream",
     "text": [
      "0 0.7232837444202624\n",
      "1 0.7931473623659533\n",
      "2 0.7968147025704155\n",
      "3 0.7968121217190013\n",
      "4 0.7968121300467907\n",
      "5 0.7968121300199338\n",
      "6 0.7968121300200203\n",
      "7 0.79681213002002\n",
      "8 0.79681213002002\n",
      "9 0.79681213002002\n"
     ]
    }
   ],
   "source": [
    "#Repeat using overrelaxation\n",
    "x2 = 0.5\n",
    "omega = 0.69\n",
    "for j in range(10):\n",
    "    x2 = (1 - np.exp(-c*x2))*(1 + omega) - omega*x2\n",
    "    print(j,x2)"
   ]
  },
  {
   "cell_type": "markdown",
   "metadata": {},
   "source": [
    "PART C"
   ]
  },
  {
   "cell_type": "code",
   "execution_count": 49,
   "metadata": {},
   "outputs": [
    {
     "name": "stdout",
     "output_type": "stream",
     "text": [
      "4.9651152193546295 24\n"
     ]
    }
   ],
   "source": [
    "#Define f\n",
    "def f(x):    \n",
    "    return 5*np.exp(-x) + x - 5\n",
    "\n",
    "#Define Constants\n",
    "eps = 10e-6\n",
    "x1, x2 = 1, 100\n",
    "num = 0\n",
    "\n",
    "#Perform binary search algorithm described in textbook page 264 \n",
    "while np.abs(x1-x2) > eps:\n",
    "    midpoint = .5*(x1+x2)\n",
    "\n",
    "    if (f(midpoint) > 0 and f(x1) > 0) or (f(midpoint) < 0 and f(x1) < 0):\n",
    "        x1 = midpoint\n",
    "    else:\n",
    "        x2 = midpoint\n",
    "    \n",
    "    num+=1\n",
    "    \n",
    "    x = 0.5*(x1+x2)\n",
    "#print results \n",
    "print(x, num)"
   ]
  },
  {
   "cell_type": "code",
   "execution_count": 52,
   "metadata": {},
   "outputs": [
    {
     "data": {
      "text/plain": [
       "5772.4529457963545"
      ]
     },
     "execution_count": 52,
     "metadata": {},
     "output_type": "execute_result"
    }
   ],
   "source": [
    "#Calculate b\n",
    "b = con.h*con.c/(con.k*x)\n",
    "\n",
    "#Calculate and print the surface temperature of the sun\n",
    "surface_temp = b/502e-9\n",
    "surface_temp"
   ]
  },
  {
   "cell_type": "code",
   "execution_count": null,
   "metadata": {},
   "outputs": [],
   "source": []
  }
 ],
 "metadata": {
  "kernelspec": {
   "display_name": "Python 3",
   "language": "python",
   "name": "python3"
  },
  "language_info": {
   "codemirror_mode": {
    "name": "ipython",
    "version": 3
   },
   "file_extension": ".py",
   "mimetype": "text/x-python",
   "name": "python",
   "nbconvert_exporter": "python",
   "pygments_lexer": "ipython3",
   "version": "3.8.3"
  }
 },
 "nbformat": 4,
 "nbformat_minor": 4
}
