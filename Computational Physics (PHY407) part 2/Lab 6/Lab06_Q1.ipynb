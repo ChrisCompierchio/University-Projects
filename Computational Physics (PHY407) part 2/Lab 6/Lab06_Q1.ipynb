{
 "cells": [
  {
   "cell_type": "markdown",
   "metadata": {},
   "source": [
    "Sky Kapoor and Chris Compierchio\n",
    "\n",
    "This program will simulate the motion of two particles under the influence of the Leonard-Jones potential"
   ]
  },
  {
   "cell_type": "code",
   "execution_count": 1,
   "metadata": {},
   "outputs": [],
   "source": [
    "#import libraries\n",
    "import numpy as np\n",
    "import matplotlib.pyplot as plt"
   ]
  },
  {
   "cell_type": "markdown",
   "metadata": {},
   "source": [
    "PART A"
   ]
  },
  {
   "cell_type": "markdown",
   "metadata": {},
   "source": [
    "In PDF"
   ]
  },
  {
   "cell_type": "markdown",
   "metadata": {},
   "source": [
    "PART B"
   ]
  },
  {
   "cell_type": "code",
   "execution_count": 2,
   "metadata": {},
   "outputs": [
    {
     "data": {
      "text/plain": [
       "<matplotlib.legend.Legend at 0x29803804f70>"
      ]
     },
     "execution_count": 2,
     "metadata": {},
     "output_type": "execute_result"
    },
    {
     "data": {
      "image/png": "[encoded data removed]",
      "text/plain": [
       "<Figure size 432x288 with 1 Axes>"
      ]
     },
     "metadata": {
      "needs_background": "light"
     },
     "output_type": "display_data"
    }
   ],
   "source": [
    "#define given constants\n",
    "m = 1\n",
    "epsilon = 1\n",
    "sigma = 1\n",
    "\n",
    "#Define time step and number of iterations\n",
    "dt = 0.01\n",
    "N = 100\n",
    "\n",
    "#define r1 and r2\n",
    "r1 = 0\n",
    "r2 = 0\n",
    "\n",
    "#define arrays for the x and y positions, velocities, and accelerations for both particles\n",
    "x1 = np.zeros(N)\n",
    "y1 = np.zeros(N)\n",
    "x2 = np.zeros(N)\n",
    "y2 = np.zeros(N)\n",
    "v1x = np.zeros(N)\n",
    "v1y = np.zeros(N)\n",
    "v2y = np.zeros(N)\n",
    "v2x = np.zeros(N)\n",
    "a1x = np.zeros(N)\n",
    "a2x = np.zeros(N)\n",
    "a1y = np.zeros(N)\n",
    "a2y = np.zeros(N)\n",
    "r1x = np.zeros(N)\n",
    "r1y = np.zeros(N)\n",
    "r2x = np.zeros(N)\n",
    "r2y = np.zeros(N)\n",
    "r1 = np.zeros(N)\n",
    "r2 = np.zeros(N)\n",
    "\n",
    "#Define array that stores times\n",
    "times = np.zeros(N)\n",
    "\n",
    "#Define the verlet function that will use the verlet algorithm to caluclate the motion of the particles\n",
    "def verlet(case):\n",
    "    \n",
    "    #if the case inputted is i\n",
    "    if case == 'i':\n",
    "        #set required initial conditions and caluclate r1 and r2\n",
    "        x1[0] = 4\n",
    "        y1[0] = 4\n",
    "        \n",
    "        x2[0] = 5.2\n",
    "        y2[0] = 4\n",
    "        \n",
    "    #repeat for the ii case\n",
    "    elif case == 'ii':\n",
    "        x1[0] = 4.5\n",
    "        y1[0] = 4\n",
    "\n",
    "        x2[0] = 5.2\n",
    "        y2[0] = 4\n",
    "       \n",
    "    #repeat for the iii case\n",
    "    elif case == 'iii':\n",
    "        x1[0] = 2\n",
    "        y1[0] = 3\n",
    "\n",
    "        x2[0] = 3.5\n",
    "        y2[0] = 4.4\n",
    "       \n",
    "    #otherwise, tell the user to input i, ii, or iii\n",
    "    else:\n",
    "        print(\"Input must be 'i', 'ii', or 'iii'\")\n",
    "    \n",
    "    #begin loop through N\n",
    "    for i in range(N-1):\n",
    "        \n",
    "        #Calculate rx and ry as described in part A\n",
    "        r1x[i] = x1[0] - x2[0]\n",
    "        r1y[i] = y1[0] - y2[0]\n",
    "        r2x[i] = x2[0] - x1[0]\n",
    "        r2y[i] = y2[0] - y1[0]\n",
    "       \n",
    "        #Calculate r for each particle\n",
    "        r1[i] = np.sqrt(r1x[i]**2 + r1y[i]**2)\n",
    "        r2[i] = np.sqrt(r2x[i]**2 + r2y[i]**2) \n",
    "        \n",
    "        #define accelerations of each particle\n",
    "        a1x[i] = 4*((12/r1[i]**13)-(6/r1[i]**7)) * r1x[i]/r1[i]\n",
    "        a1y[i] = 4*((12/r1[i]**13)-(6/r1[i]**7)) * r1y[i]/r1[i]\n",
    "        a2x[i] = 4*((12/r2[i]**13)-(6/r2[i]**7)) * r2x[i]/r2[i]\n",
    "        a2y[i] = 4*((12/r2[i]**13)-(6/r2[i]**7)) * r2y[i]/r2[i]\n",
    "        \n",
    "        #if i = 0, use the euler-cromer method to find the 2nd positions and velocities for each particle\n",
    "        if i == 0:\n",
    "            \n",
    "            v1x[i+1] = v1x[i] + a1x[i]*dt\n",
    "            x1[i+1] = x1[i] + v1x[i+1]*dt\n",
    "            \n",
    "            v1y[i+1] = v1y[i] + a1y[i]*dt\n",
    "            y1[i+1] = y1[i] + v1y[i+1]*dt\n",
    "            \n",
    "            v2x[i+1] = v2x[i] + a2x[i]*dt\n",
    "            x2[i+1] = x2[i] + v2x[i+1]*dt\n",
    "            \n",
    "            v2y[i+1] = v2y[i] + a2y[i]*dt\n",
    "            y2[i+1] = y2[i] + v2y[i+1]*dt\n",
    "    \n",
    "        #otherwise, use the verlet method to do this\n",
    "        else:\n",
    "            x1[i+1] = x1[i] + v1x[i]*dt + a1x[i]*0.5*dt**2\n",
    "            y1[i+1] = y1[i] + v1y[i]*dt + a1y[i]*0.5*dt**2\n",
    "\n",
    "            x2[i+1] = x2[i] + v2x[i]*dt + a2x[i]*0.5*dt**2\n",
    "            y2[i+1] = y2[i] + v2y[i]*dt + a2y[i]*0.5*dt**2\n",
    "            \n",
    "            r1x[i+1] = x1[i] - x2[i]\n",
    "            r1y[i+1] = y1[i] - y2[i]\n",
    "            r2x[i+1] = x2[i] - x1[i]\n",
    "            r2y[i+1] = y2[i] - y1[i]\n",
    "            \n",
    "            r1[i+1] = np.sqrt(r1x[i+1]**2 + r1y[i+1]**2)\n",
    "            r2[i+1] = np.sqrt(r2x[i+1]**2 + r2y[i+1]**2) \n",
    "        \n",
    "            a1x[i+1] = 4*((12/r1[i+1]**13)-(6/r1[i+1]**7)) * r1x[i+1]/r1[i+1]\n",
    "            a1y[i+1] = 4*((12/r1[i+1]**13)-(6/r1[i+1]**7)) * r1y[i+1]/r1[i+1]\n",
    "            a2x[i+1] = 4*((12/r2[i+1]**13)-(6/r2[i+1]**7)) * r2x[i+1]/r2[i+1]\n",
    "            a2y[i+1] = 4*((12/r2[i+1]**13)-(6/r2[i+1]**7)) * r2y[i+1]/r2[i+1]\n",
    "            \n",
    "            v1x[i+1] = v1x[i] + 0.5 * (a1x[i] + a1x[i+1])*dt\n",
    "            v1y[i+1] = v1y[i] + 0.5 * (a1y[i] + a1y[i+1])*dt\n",
    "            \n",
    "            v2x[i+1] = v2x[i] + 0.5 * (a2x[i] + a2x[i+1])*dt\n",
    "            v2y[i+1] = v2y[i] + 0.5 * (a2y[i] + a2y[i+1])*dt\n",
    "            \n",
    "        #update the times\n",
    "        times[i+1] = times[i] + dt\n",
    "       \n",
    "    #return positions, velocities and times\n",
    "    return x1, y1, v1x, v1y, x2, y2, v2x, v2y, times\n",
    "\n",
    "#plot trajectories for the iii case\n",
    "plt.plot(verlet(\"iii\")[0], verlet(\"iii\")[1], \".\" , label = \"particle 1\")\n",
    "plt.plot(verlet(\"iii\")[4], verlet(\"iii\")[5], \".\", label = \"particle 2\")\n",
    "plt.title(\"Positions of Particles for Case iii\", fontsize = 16)\n",
    "plt.xlabel(\"x\", fontsize = 14)\n",
    "plt.ylabel(\"y\", fontsize = 14)\n",
    "plt.legend(loc = \"best\")\n",
    "plt.show()"
   ]
  },
  {
   "cell_type": "code",
   "execution_count": 3,
   "metadata": {},
   "outputs": [
    {
     "data": {
      "text/plain": [
       "<matplotlib.legend.Legend at 0x29803802820>"
      ]
     },
     "execution_count": 3,
     "metadata": {},
     "output_type": "execute_result"
    },
    {
     "data": {
      "image/png": "[encoded data removed]",
      "text/plain": [
       "<Figure size 432x288 with 1 Axes>"
      ]
     },
     "metadata": {
      "needs_background": "light"
     },
     "output_type": "display_data"
    }
   ],
   "source": [
    "#plot the trajectories for the ii case\n",
    "plt.plot(verlet(\"ii\")[0], verlet(\"ii\")[1], \".\" , label = \"Particle 1\")\n",
    "plt.plot(verlet(\"ii\")[4], verlet(\"ii\")[5], \".\", label = \"Particle 2\")\n",
    "\n",
    "plt.title(\"Positions of Particles for Case ii\", fontsize = 16)\n",
    "plt.xlabel(\"x\", fontsize = 14)\n",
    "plt.ylabel(\"y\", fontsize = 14)\n",
    "plt.legend(loc = \"best\")\n",
    "plt.show()"
   ]
  },
  {
   "cell_type": "code",
   "execution_count": 4,
   "metadata": {},
   "outputs": [
    {
     "data": {
      "text/plain": [
       "<matplotlib.legend.Legend at 0x29803fe6c40>"
      ]
     },
     "execution_count": 4,
     "metadata": {},
     "output_type": "execute_result"
    },
    {
     "data": {
      "image/png": "[encoded data removed]",
      "text/plain": [
       "<Figure size 432x288 with 1 Axes>"
      ]
     },
     "metadata": {
      "needs_background": "light"
     },
     "output_type": "display_data"
    }
   ],
   "source": [
    "#plot the trajectories for the i case\n",
    "plt.plot(verlet(\"i\")[0], verlet(\"i\")[1], \".\", label = \"Paticle 1\")\n",
    "plt.plot(verlet(\"i\")[4], verlet(\"i\")[5], \".\", label = \"Particle 2\")\n",
    "plt.xlim(3.9, 5.3)\n",
    "plt.ylim(3.5,4.5)\n",
    "plt.title(\"Positions of Particles for Case i\", fontsize = 16)\n",
    "plt.xlabel(\"x\", fontsize = 14)\n",
    "plt.ylabel(\"y\", fontsize = 14)\n",
    "plt.legend(loc = \"best\")\n",
    "plt.show()"
   ]
  },
  {
   "cell_type": "markdown",
   "metadata": {},
   "source": [
    "PART C"
   ]
  },
  {
   "cell_type": "code",
   "execution_count": null,
   "metadata": {},
   "outputs": [],
   "source": []
  }
 ],
 "metadata": {
  "kernelspec": {
   "display_name": "Python 3",
   "language": "python",
   "name": "python3"
  },
  "language_info": {
   "codemirror_mode": {
    "name": "ipython",
    "version": 3
   },
   "file_extension": ".py",
   "mimetype": "text/x-python",
   "name": "python",
   "nbconvert_exporter": "python",
   "pygments_lexer": "ipython3",
   "version": "3.8.3"
  }
 },
 "nbformat": 4,
 "nbformat_minor": 4
}
