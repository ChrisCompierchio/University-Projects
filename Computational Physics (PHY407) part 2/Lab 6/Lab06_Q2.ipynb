{
 "cells": [
  {
   "cell_type": "markdown",
   "metadata": {},
   "source": [
    "Sky Kapoor and Chris Compierchio\n",
    "\n",
    "This program will simulate the motion of an arbitrary number of particles under the influence of the Leonard-Jones potential"
   ]
  },
  {
   "cell_type": "code",
   "execution_count": 1,
   "metadata": {},
   "outputs": [],
   "source": [
    "#import libraries\n",
    "import numpy as np\n",
    "import matplotlib.pyplot as plt"
   ]
  },
  {
   "cell_type": "markdown",
   "metadata": {},
   "source": [
    "PART A"
   ]
  },
  {
   "cell_type": "code",
   "execution_count": 2,
   "metadata": {
    "scrolled": true
   },
   "outputs": [
    {
     "data": {
      "image/png": "[encoded data removed]",
      "text/plain": [
       "<Figure size 432x288 with 1 Axes>"
      ]
     },
     "metadata": {
      "needs_background": "light"
     },
     "output_type": "display_data"
    }
   ],
   "source": [
    "#intitialize N, dt, T, U, K\n",
    "N = 16\n",
    "dt = 0.01\n",
    "T = np.arange(0, .2, dt)\n",
    "U = np.zeros(len(T))\n",
    "\n",
    "#create arrays for the xs, ys, rs, velocities and accelerations\n",
    "xs = [[0]*N for i in range(T.size)]\n",
    "ys = [[0]*N for i in range(T.size)]\n",
    "rxs = [[0]*N for i in range(T.size)]\n",
    "rys = [[0]*N for i in range(T.size)]\n",
    "vxs = [[0]*N for i in range(T.size)]\n",
    "vys = [[0]*N for i in range(T.size)]\n",
    "axs = [[0]*N for i in range(T.size)]\n",
    "ays = [[0]*N for i in range(T.size)]\n",
    "\n",
    "#Define constants\n",
    "m = 1\n",
    "epsilon = 1\n",
    "sigma = 1\n",
    "\n",
    "#set initial positions of particles\n",
    "for i in range(N):\n",
    "    if i == 0 or i == 4 or i == 8 or i == 12:\n",
    "        xs[0][i] = 0.5\n",
    "    if i == 1 or i == 5 or i == 9 or i == 13:\n",
    "        xs[0][i] = 1.5\n",
    "    if i == 2 or i == 6 or i == 10 or i == 14:\n",
    "        xs[0][i] = 2.5\n",
    "    if i == 3 or i == 7 or i == 11 or i == 15:\n",
    "        xs[0][i] = 3.5\n",
    "for j in range(N):\n",
    "    if j == 0 or j == 1 or j == 2 or j == 3:\n",
    "        ys[0][j] = 0.5\n",
    "    if j == 4 or j == 5 or j == 6 or j == 7:\n",
    "        ys[0][j] = 1.5\n",
    "    if j == 8 or j == 9 or j == 10 or j == 11:\n",
    "        ys[0][j] = 2.5\n",
    "    if j == 12 or j == 13 or j == 14 or j == 15:\n",
    "        ys[0][j] = 3.5\n",
    "\n",
    "#plot initial positions\n",
    "plt.scatter(xs[:][0], ys[:][0], label = \"particle\", color=\"grey\")\n",
    "plt.xlim(-10,16)\n",
    "plt.ylim(-10,16)\n",
    "\n",
    "#define a function that will calculate the acceleration of the particles\n",
    "def acc(x, y):\n",
    "    u=0\n",
    "    for i in range(N):\n",
    "        for j in range(N):\n",
    "            if i != j:\n",
    "                x = xs[0][i] - xs[0][j]\n",
    "                y = ys[0][i] - ys[0][j]\n",
    "                axs[0][i] += 4*((12/(np.sqrt(x**2 + y**2))**13)-(6/(np.sqrt(x**2 + y**2))**7))*x/np.sqrt(x**2 + y**2)\n",
    "                ays[0][i] += 4*((12/(np.sqrt(x**2 + y**2))**13)-(6/(np.sqrt(x**2 + y**2))**7))*y/np.sqrt(x**2 + y**2)\n",
    "    return axs, ays, u\n",
    "    \n",
    "#loop through the particles\n",
    "for i in range (T.size-1):\n",
    "    for j in range(N):\n",
    "        \n",
    "        #For particle 1, update its x, y, accelerations, and velocities\n",
    "        xs[i+1][0] = xs[i][0] + vxs[i][0]*dt + acc(xs, ys)[0][i][0]*.5*dt**2\n",
    "        ys[i+1][0] = ys[i][0] + vys[i][0]*dt + acc(xs, ys)[1][i][0]*.5*dt**2\n",
    "        \n",
    "        ax = acc(xs[i], ys[i])[0][i+1][0]\n",
    "        ay = acc(xs[i], ys[i])[1][i+1][0]\n",
    "        \n",
    "        vxs[i+1][0] = vxs[i][0] + 0.5*(acc(xs[i],ys[i])[0][i][0]+ax)*dt\n",
    "        vys[i+1][0] = vys[i][0] + 0.5*(acc(xs[i],ys[i])[1][i][0]+ay)*dt\n",
    "        \n",
    "        #repeat for particles 2-16\n",
    "        xs[i+1][1] = xs[i][1] + vxs[i][1]*dt + acc(xs, ys)[0][i][1]*.5*dt**2\n",
    "        ys[i+1][1] = ys[i][1] + vys[i][1]*dt + acc(xs, ys)[1][i][1]*.5*dt**2\n",
    "        \n",
    "        ax = acc(xs[i], ys[i])[0][i+1][1]\n",
    "        ay = acc(xs[i], ys[i])[1][i+1][1]\n",
    "        \n",
    "        vxs[i+1][1] = vxs[i][1] + 0.5*(acc(xs[i],ys[i])[0][i][1]+ax)*dt\n",
    "        vys[i+1][1] = vys[i][1] + 0.5*(acc(xs[i],ys[i])[1][i][1]+ay)*dt\n",
    "        \n",
    "        \n",
    "        xs[i+1][2] = xs[i][2] + vxs[i][2]*dt + acc(xs, ys)[0][i][2]*.5*dt**2\n",
    "        ys[i+1][2] = ys[i][2] + vys[i][2]*dt + acc(xs, ys)[1][i][2]*.5*dt**2\n",
    "        \n",
    "        ax = acc(xs[i], ys[i])[0][i+1][2]\n",
    "        ay = acc(xs[i], ys[i])[1][i+1][2]\n",
    "        \n",
    "        \n",
    "        vxs[i+1][2] = vxs[i][2] + 0.5*(acc(xs[i],ys[i])[0][i][2]+ax)*dt\n",
    "        vys[i+1][2] = vys[i][2] + 0.5*(acc(xs[i],ys[i])[1][i][2]+ay)*dt\n",
    "        \n",
    "        \n",
    "        xs[i+1][3] = xs[i][3] + vxs[i][3]*dt + acc(xs, ys)[0][i][3]*.5*dt**2\n",
    "        ys[i+1][3] = ys[i][3] + vys[i][3]*dt + acc(xs, ys)[1][i][3]*.5*dt**2\n",
    "        \n",
    "        ax = acc(xs[i], ys[i])[0][i+1][3]\n",
    "        ay = acc(xs[i], ys[i])[1][i+1][3]\n",
    "        \n",
    "        vxs[i+1][3] = vxs[i][3] + 0.5*(acc(xs[i],ys[i])[0][i][3]+ax)*dt\n",
    "        vys[i+1][3] = vys[i][3] + 0.5*(acc(xs[i],ys[i])[1][i][3]+ay)*dt\n",
    "       \n",
    "    \n",
    "        xs[i+1][4] = xs[i][4] + vxs[i][4]*dt + acc(xs, ys)[0][i][4]*.5*dt**2\n",
    "        ys[i+1][4] = ys[i][4] + vys[i][4]*dt + acc(xs, ys)[1][i][4]*.5*dt**2\n",
    "        \n",
    "        ax = acc(xs[i], ys[i])[0][i+1][4]\n",
    "        ay = acc(xs[i], ys[i])[1][i+1][4]\n",
    "        \n",
    "        \n",
    "        vxs[i+1][4] = vxs[i][4] + 0.5*(acc(xs[i],ys[i])[0][i][4]+ax)*dt\n",
    "        vys[i+1][4] = vys[i][4] + 0.5*(acc(xs[i],ys[i])[1][i][4]+ay)*dt\n",
    "        \n",
    "        \n",
    "        xs[i+1][5] = xs[i][5] + vxs[i][5]*dt + acc(xs, ys)[0][i][5]*.5*dt**2\n",
    "        ys[i+1][5] = ys[i][5] + vys[i][5]*dt + acc(xs, ys)[1][i][5]*.5*dt**2\n",
    "        \n",
    "        ax = acc(xs[i], ys[i])[0][i+1][5]\n",
    "        ay = acc(xs[i], ys[i])[1][i+1][5]\n",
    "        \n",
    "        \n",
    "        vxs[i+1][5] = vxs[i][5] + 0.5*(acc(xs[i],ys[i])[0][i][5]+ax)*dt\n",
    "        vys[i+1][5] = vys[i][5] + 0.5*(acc(xs[i],ys[i])[1][i][5]+ay)*dt\n",
    "        \n",
    "        \n",
    "        xs[i+1][6] = xs[i][6] + vxs[i][6]*dt + acc(xs, ys)[0][i][6]*.5*dt**2\n",
    "        ys[i+1][6] = ys[i][6] + vys[i][6]*dt + acc(xs, ys)[1][i][6]*.5*dt**2\n",
    "        \n",
    "        ax = acc(xs[i], ys[i])[0][i+1][6]\n",
    "        ay = acc(xs[i], ys[i])[1][i+1][6]\n",
    "       \n",
    "        \n",
    "        vxs[i+1][6] = vxs[i][6] + 0.5*(acc(xs[i],ys[i])[0][i][6]+ax)*dt\n",
    "        vys[i+1][6] = vys[i][6] + 0.5*(acc(xs[i],ys[i])[1][i][6]+ay)*dt\n",
    "        \n",
    "        \n",
    "        xs[i+1][7] = xs[i][7] + vxs[i][7]*dt + acc(xs, ys)[0][i][7]*.5*dt**2\n",
    "        ys[i+1][7] = ys[i][7] + vys[i][7]*dt + acc(xs, ys)[1][i][7]*.5*dt**2\n",
    "        \n",
    "        ax = acc(xs[i], ys[i])[0][i+1][7]\n",
    "        ay = acc(xs[i], ys[i])[1][i+1][7]\n",
    "        \n",
    "        \n",
    "        vxs[i+1][7] = vxs[i][7] + 0.5*(acc(xs[i],ys[i])[0][i][7]+ax)*dt\n",
    "        vys[i+1][7] = vys[i][7] + 0.5*(acc(xs[i],ys[i])[1][i][7]+ay)*dt\n",
    "        \n",
    "        \n",
    "        xs[i+1][8] = xs[i][8] + vxs[i][8]*dt + acc(xs, ys)[0][i][8]*.5*dt**2\n",
    "        ys[i+1][8] = ys[i][8] + vys[i][8]*dt + acc(xs, ys)[1][i][8]*.5*dt**2\n",
    "        \n",
    "        ax = acc(xs[i], ys[i])[0][i+1][8]\n",
    "        ay = acc(xs[i], ys[i])[1][i+1][8]\n",
    "       \n",
    "        \n",
    "        vxs[i+1][8] = vxs[i][8] + 0.5*(acc(xs[i],ys[i])[0][i][8]+ax)*dt\n",
    "        vys[i+1][8] = vys[i][8] + 0.5*(acc(xs[i],ys[i])[1][i][8]+ay)*dt\n",
    "        \n",
    "        \n",
    "        xs[i+1][9] = xs[i][9] + vxs[i][9]*dt + acc(xs, ys)[0][i][9]*.5*dt**2\n",
    "        ys[i+1][9] = ys[i][9] + vys[i][9]*dt + acc(xs, ys)[1][i][9]*.5*dt**2\n",
    "        \n",
    "        ax = acc(xs[i], ys[i])[0][i+1][9]\n",
    "        ay = acc(xs[i], ys[i])[1][i+1][9]\n",
    "        \n",
    "        \n",
    "        vxs[i+1][9] = vxs[i][9] + 0.5*(acc(xs[i],ys[i])[0][i][9]+ax)*dt\n",
    "        vys[i+1][9] = vys[i][9] + 0.5*(acc(xs[i],ys[i])[1][i][9]+ay)*dt\n",
    "        \n",
    "        \n",
    "        xs[i+1][10] = xs[i][10] + vxs[i][10]*dt + acc(xs, ys)[0][i][10]*.5*dt**2\n",
    "        ys[i+1][10] = ys[i][10] + vys[i][10]*dt + acc(xs, ys)[1][i][10]*.5*dt**2\n",
    "        \n",
    "        ax = acc(xs[i], ys[i])[0][i+1][10]\n",
    "        ay = acc(xs[i], ys[i])[1][i+1][10]\n",
    "        \n",
    "        \n",
    "        vxs[i+1][10] = vxs[i][10] + 0.5*(acc(xs[i],ys[i])[0][i][10]+ax)*dt\n",
    "        vys[i+1][10] = vys[i][10] + 0.5*(acc(xs[i],ys[i])[1][i][10]+ay)*dt\n",
    "        \n",
    "        \n",
    "        xs[i+1][11] = xs[i][11] + vxs[i][11]*dt + acc(xs, ys)[0][i][11]*.5*dt**2\n",
    "        ys[i+1][11] = ys[i][11] + vys[i][11]*dt + acc(xs, ys)[1][i][11]*.5*dt**2\n",
    "        \n",
    "        ax = acc(xs[i], ys[i])[0][i+1][11]\n",
    "        ay = acc(xs[i], ys[i])[1][i+1][11]\n",
    "        \n",
    "        vxs[i+1][11] = vxs[i][11] + 0.5*(acc(xs[i],ys[i])[0][i][11]+ax)*dt\n",
    "        vys[i+1][11] = vys[i][11] + 0.5*(acc(xs[i],ys[i])[1][i][11]+ay)*dt\n",
    "        \n",
    "        \n",
    "        xs[i+1][12] = xs[i][12] + vxs[i][12]*dt + acc(xs, ys)[0][i][12]*.5*dt**2\n",
    "        ys[i+1][12] = ys[i][12] + vys[i][12]*dt + acc(xs, ys)[1][i][12]*.5*dt**2\n",
    "        \n",
    "        ax = acc(xs[i], ys[i])[0][i+1][12]\n",
    "        ay = acc(xs[i], ys[i])[1][i+1][12]\n",
    "        \n",
    "        vxs[i+1][12] = vxs[i][12] + 0.5*(acc(xs[i],ys[i])[0][i][12]+ax)*dt\n",
    "        vys[i+1][12] = vys[i][12] + 0.5*(acc(xs[i],ys[i])[1][i][12]+ay)*dt\n",
    "        \n",
    "        \n",
    "        xs[i+1][13] = xs[i][13] + vxs[i][13]*dt + acc(xs, ys)[0][i][13]*.5*dt**2\n",
    "        ys[i+1][13] = ys[i][13] + vys[i][13]*dt + acc(xs, ys)[1][i][13]*.5*dt**2\n",
    "        \n",
    "        ax = acc(xs[i], ys[i])[0][i+1][13]\n",
    "        ay = acc(xs[i], ys[i])[1][i+1][13]\n",
    "        \n",
    "        vxs[i+1][13] = vxs[i][13] + 0.5*(acc(xs[i],ys[i])[0][i][13]+ax)*dt\n",
    "        vys[i+1][13] = vys[i][13] + 0.5*(acc(xs[i],ys[i])[1][i][13]+ay)*dt\n",
    "        \n",
    "        \n",
    "        xs[i+1][14] = xs[i][14] + vxs[i][14]*dt + acc(xs, ys)[0][i][14]*.5*dt**2\n",
    "        ys[i+1][14] = ys[i][14] + vys[i][14]*dt + acc(xs, ys)[1][i][14]*.5*dt**2\n",
    "        \n",
    "        ax = acc(xs[i], ys[i])[0][i+1][14]\n",
    "        ay = acc(xs[i], ys[i])[1][i+1][14]\n",
    "        \n",
    "        vxs[i+1][14] = vxs[i][14] + 0.5*(acc(xs[i],ys[i])[0][i][14]+ax)*dt\n",
    "        vys[i+1][14] = vys[i][14] + 0.5*(acc(xs[i],ys[i])[1][i][14]+ay)*dt\n",
    "        \n",
    "        \n",
    "        xs[i+1][15] = xs[i][15] + vxs[i][15]*dt + acc(xs, ys)[0][i][15]*.5*dt**2\n",
    "        ys[i+1][15] = ys[i][15] + vys[i][15]*dt + acc(xs, ys)[1][i][15]*.5*dt**2\n",
    "        \n",
    "        ax = acc(xs[i], ys[i])[0][i+1][15]\n",
    "        ay = acc(xs[i], ys[i])[1][i+1][15]\n",
    "        \n",
    "        vxs[i+1][15] = vxs[i][15] + 0.5*(acc(xs[i],ys[i])[0][i][15]+ax)*dt\n",
    "        vys[i+1][15] = vys[i][15] + 0.5*(acc(xs[i],ys[i])[1][i][15]+ay)*dt\n",
    "    \n",
    "#plot trajectories\n",
    "plt.plot(xs, ys, \".\")\n",
    "plt.title(\"Particle Trajectories\", fontsize = 16)\n",
    "plt.xlabel(\"X\", fontsize = 14)\n",
    "plt.ylabel(\"Y\", fontsize = 14)\n",
    "plt.show()"
   ]
  },
  {
   "cell_type": "markdown",
   "metadata": {},
   "source": [
    "PART B"
   ]
  },
  {
   "cell_type": "code",
   "execution_count": 3,
   "metadata": {},
   "outputs": [],
   "source": [
    "#Initialize Kinetic and potential energies\n",
    "K=[[0]*N for i in range(T.size)]\n",
    "U = [[0]*N for i in range(T.size)]\n",
    "#Calculate Kinetic and potential energies\n",
    "for i in range (1,len(T)):\n",
    "    for j in range(N):\n",
    "        K[i][j] += .5*vxs[i][j]**2+0.5*vys[i][j]**2\n",
    "        U[i][j] += 0.5*(4*((1/(np.sqrt(xs[i][j]**2 + ys[i][j]**2))**12)-(1/(np.sqrt(xs[i][j]**2 + ys[i][j]**2))**6)))"
   ]
  },
  {
   "cell_type": "code",
   "execution_count": 35,
   "metadata": {},
   "outputs": [
    {
     "name": "stdout",
     "output_type": "stream",
     "text": [
      "The Total Energy at each step is:  [[0, 0, 0, 0, 0, 0, 0, 0, 0, 0, 0, 0, 0, 0, 0, 0], [26545.851156483608, 12003.246487871189, 12102.651842558473, 27211.08852559499, 12285.965020535681, 6.457820820017808, 6.510447998684459, 12588.8952193692, 12690.69179038107, 6.669610953982355, 6.723092412180964, 12998.541017618778, 29256.196051192637, 13223.165400341577, 13327.489783433044, 29954.363699146306], [26545.851156483608, 12003.246487871189, 12102.651842558473, 27211.08852559499, 12285.965020535681, 6.457820820017808, 6.510447998684459, 12588.8952193692, 12690.69179038107, 6.669610953982355, 6.723092412180964, 12998.541017618778, 29256.196051192637, 13223.165400341577, 13327.489783433044, 29954.363699146306], [26545.851156483608, 12003.246487871189, 12102.651842558473, 27211.08852559499, 12285.965020535681, 6.457820820017808, 6.510447998684459, 12588.8952193692, 12690.69179038107, 6.669610953982355, 6.723092412180964, 12998.541017618778, 29256.196051192637, 13223.165400341577, 13327.489783433044, 29954.363699146306], [26545.851156483608, 12003.246487871189, 12102.651842558473, 27211.08852559499, 12285.965020535681, 6.457820820017808, 6.510447998684459, 12588.8952193692, 12690.69179038107, 6.669610953982355, 6.723092412180964, 12998.541017618778, 29256.196051192637, 13223.165400341577, 13327.489783433044, 29954.363699146306], [26545.851156483608, 12003.246487871189, 12102.651842558473, 27211.08852559499, 12285.965020535681, 6.457820820017808, 6.510447998684459, 12588.8952193692, 12690.69179038107, 6.669610953982355, 6.723092412180964, 12998.541017618778, 29256.196051192637, 13223.165400341577, 13327.489783433044, 29954.363699146306], [26545.851156483608, 12003.246487871189, 12102.651842558473, 27211.08852559499, 12285.965020535681, 6.457820820017808, 6.510447998684459, 12588.8952193692, 12690.69179038107, 6.669610953982355, 6.723092412180964, 12998.541017618778, 29256.196051192637, 13223.165400341577, 13327.489783433044, 29954.363699146306], [26545.851156483608, 12003.246487871189, 12102.651842558473, 27211.08852559499, 12285.965020535681, 6.457820820017808, 6.510447998684459, 12588.8952193692, 12690.69179038107, 6.669610953982355, 6.723092412180964, 12998.541017618778, 29256.196051192637, 13223.165400341577, 13327.489783433044, 29954.363699146306], [26545.851156483608, 12003.246487871189, 12102.651842558473, 27211.08852559499, 12285.965020535681, 6.457820820017808, 6.510447998684459, 12588.8952193692, 12690.69179038107, 6.669610953982355, 6.723092412180964, 12998.541017618778, 29256.196051192637, 13223.165400341577, 13327.489783433044, 29954.363699146306], [26545.851156483608, 12003.246487871189, 12102.651842558473, 27211.08852559499, 12285.965020535681, 6.457820820017808, 6.510447998684459, 12588.8952193692, 12690.69179038107, 6.669610953982355, 6.723092412180964, 12998.541017618778, 29256.196051192637, 13223.165400341577, 13327.489783433044, 29954.363699146306], [26545.851156483608, 12003.246487871189, 12102.651842558473, 27211.08852559499, 12285.965020535681, 6.457820820017808, 6.510447998684459, 12588.8952193692, 12690.69179038107, 6.669610953982355, 6.723092412180964, 12998.541017618778, 29256.196051192637, 13223.165400341577, 13327.489783433044, 29954.363699146306], [26545.851156483608, 12003.246487871189, 12102.651842558473, 27211.08852559499, 12285.965020535681, 6.457820820017808, 6.510447998684459, 12588.8952193692, 12690.69179038107, 6.669610953982355, 6.723092412180964, 12998.541017618778, 29256.196051192637, 13223.165400341577, 13327.489783433044, 29954.363699146306], [26545.851156483608, 12003.246487871189, 12102.651842558473, 27211.08852559499, 12285.965020535681, 6.457820820017808, 6.510447998684459, 12588.8952193692, 12690.69179038107, 6.669610953982355, 6.723092412180964, 12998.541017618778, 29256.196051192637, 13223.165400341577, 13327.489783433044, 29954.363699146306], [26545.851156483608, 12003.246487871189, 12102.651842558473, 27211.08852559499, 12285.965020535681, 6.457820820017808, 6.510447998684459, 12588.8952193692, 12690.69179038107, 6.669610953982355, 6.723092412180964, 12998.541017618778, 29256.196051192637, 13223.165400341577, 13327.489783433044, 29954.363699146306], [26545.851156483608, 12003.246487871189, 12102.651842558473, 27211.08852559499, 12285.965020535681, 6.457820820017808, 6.510447998684459, 12588.8952193692, 12690.69179038107, 6.669610953982355, 6.723092412180964, 12998.541017618778, 29256.196051192637, 13223.165400341577, 13327.489783433044, 29954.363699146306], [26545.851156483608, 12003.246487871189, 12102.651842558473, 27211.08852559499, 12285.965020535681, 6.457820820017808, 6.510447998684459, 12588.8952193692, 12690.69179038107, 6.669610953982355, 6.723092412180964, 12998.541017618778, 29256.196051192637, 13223.165400341577, 13327.489783433044, 29954.363699146306], [26545.851156483608, 12003.246487871189, 12102.651842558473, 27211.08852559499, 12285.965020535681, 6.457820820017808, 6.510447998684459, 12588.8952193692, 12690.69179038107, 6.669610953982355, 6.723092412180964, 12998.541017618778, 29256.196051192637, 13223.165400341577, 13327.489783433044, 29954.363699146306], [26545.851156483608, 12003.246487871189, 12102.651842558473, 27211.08852559499, 12285.965020535681, 6.457820820017808, 6.510447998684459, 12588.8952193692, 12690.69179038107, 6.669610953982355, 6.723092412180964, 12998.541017618778, 29256.196051192637, 13223.165400341577, 13327.489783433044, 29954.363699146306], [26545.851156483608, 12003.246487871189, 12102.651842558473, 27211.08852559499, 12285.965020535681, 6.457820820017808, 6.510447998684459, 12588.8952193692, 12690.69179038107, 6.669610953982355, 6.723092412180964, 12998.541017618778, 29256.196051192637, 13223.165400341577, 13327.489783433044, 29954.363699146306], [26545.851156483608, 12003.246487871189, 12102.651842558473, 27211.08852559499, 12285.965020535681, 6.457820820017808, 6.510447998684459, 12588.8952193692, 12690.69179038107, 6.669610953982355, 6.723092412180964, 12998.541017618778, 29256.196051192637, 13223.165400341577, 13327.489783433044, 29954.363699146306], [0, 0, 0, 0, 0, 0, 0, 0, 0, 0, 0, 0, 0, 0, 0, 0], [-0.11584016052046098, -0.049541508139727006, -0.005218170934331283, -9.330118571300761e-05, -0.04791675500478609, -0.019651815913945075, -0.003308773447367622, -8.974152565431372e-05, -0.005055048095939703, -0.0033096250372646476, -0.0010893255321599404, -5.96820784723885e-05, -8.584428996329406e-05, -8.598238096634524e-05, -5.8550494420408694e-05, -1.2268998063859542e-05], [-0.0005727496360436638, -0.002650955717535097, -0.0009417785879295241, -1.2723640816636144e-05, -0.002490889714268983, -0.017813895774924742, -0.0033645830622149333, -1.9452085319291592e-05, -0.0008610075749901629, -0.0033662485283966538, -0.0011603652282913737, -1.4893710260634938e-05, -1.1177172107512112e-05, -1.8186661636067665e-05, -1.442868423729893e-05, -2.205076036212419e-06], [-3.524431580286243e-05, -0.0002656212550917112, -0.00015836782816733912, -2.6503039390885017e-06, -0.0002479016727788283, -0.016172237669040808, -0.003418462296918102, -5.685992810753967e-06, -0.00014067634679992038, -0.0034208972828785305, -0.0012368665403693203, -4.670039123195362e-06, -2.2716772834038586e-06, -5.2344643331707895e-06, -4.486551140326747e-06, -5.814521582107908e-07], [-5.291065127186497e-06, -4.7048072551267126e-05, -3.487470493003921e-05, -7.446857656863552e-07, -4.382801162564454e-05, -0.014703457002311675, -0.0034702410068496764, -2.038446806699059e-06, -3.059314407646793e-05, -0.0034733945619480288, -0.0013193143119107917, -1.7403686901780101e-06, -6.291294246618427e-07, -1.8568338434416525e-06, -1.662287694703212e-06, -1.9549158851072453e-07], [-1.255214402283141e-06, -1.2019475512723716e-05, -9.898107271676706e-06, -2.5826053457282775e-07, -1.1190481673539987e-05, -0.013387219083695435, -0.0035197516685387524, -8.466578121368519e-07, -8.631911190910279e-06, -0.003523566361810999, -0.0014082422961144204, -7.397302006682731e-07, -2.1615816835152103e-07, -7.653477622718211e-07, -7.035581616658514e-07, -7.77433743874246e-08], [-3.9365501945280505e-07, -3.920074232196815e-06, -3.4182954083393818e-06, -1.0440168201060554e-07, -3.649154922368564e-06, -0.01220581120379186, -0.003566830427181284, -3.928464541213103e-07, -2.9720037265907287e-06, -0.003571242528108087, -0.0015042386910866588, -3.482631972005729e-07, -8.682010672345686e-08, -3.5307225416411993e-07, -3.301763737501478e-07, -3.4964240923417834e-08], [-1.49024179286309e-07, -1.5186991851872653e-06, -1.3701076429806837e-06, -4.7380869405687026e-08, -1.4137440433649188e-06, -0.01114377817966445, -0.003611318156366075, -1.9869635282313704e-07, -1.1892407153590323e-06, -0.0036162578836098844, -0.0016079523704201836, -1.7784216038939887e-07, -3.9217264774376854e-08, -1.7777474223948687e-07, -1.6818679711368895e-07, -1.7275030803672848e-08], [-6.460604914307383e-08, -6.681693307641025e-07, -6.159633609241268e-07, -2.3529788464519216e-08, -6.220306158345621e-07, -0.010187611618254768, -0.0036530615194047067, -1.0767408563809348e-07, -5.341338094387742e-07, -0.003658453357569172, -0.0017200999052046893, -9.70035758402415e-08, -1.9406531508769773e-08, -9.598843935239806e-08, -9.1554804606234e-08, -9.19267515794993e-09], [-3.10260324463409e-08, -3.240860086428796e-07, -3.031168411727043e-07, -1.2556951819831047e-08, -3.017314703679905e-07, -0.009325484656360633, -0.0036919140211402177, -6.173339771459805e-08, -2.626961495776722e-07, -0.003697677104592818, -0.0018414734880340077, -5.586953427805227e-08, -1.0327771177328926e-08, -5.487056825313652e-08, -5.2645795727218924e-08, -5.194582441989832e-09], [-1.6140355338864866e-08, -1.6978426846453801e-07, -1.6040811800364547e-07, -7.1065046815398356e-09, -1.5808655924571282e-07, -0.008547025219238289, -0.0037277370387555787, -3.7094815785223616e-08, -1.3896854643153033e-07, -0.003733785600509175, -0.001972949886421065, -3.3680489456059064e-08, -5.831898985464096e-09, -3.288954315702119e-08, -3.1694344629405205e-08, -3.0846557822102227e-09], [-8.953613519712508e-09, -9.467027680280855e-08, -9.009432415459602e-08, -4.222995710832523e-09, -8.815510367542471e-08, -0.007843121929205556, -0.003760400819924446, -2.3191753562354796e-08, -7.803577144505438e-08, -0.0037666447025157352, -0.0021155005726583094, -2.1106672318889743e-08, -3.4592468394451215e-09, -2.051957946207911e-08, -1.983945678681708e-08, -1.909685896464782e-09], [-5.235821357385097e-09, -5.5574994920131094e-08, -5.31738604387801e-08, -2.6149498208259737e-09, -5.175442627400164e-08, -0.007205757716203838, -0.0037897854366557363, -1.5000378207466387e-08, -4.605089095660529e-08, -0.0037961306609109033, -0.0022702032000581182, -1.3675271571882213e-08, -2.1387671227175733e-09, -1.3248207488975304e-08, -1.2841763837016658e-08, -1.224996660904059e-09], [-3.1996930198417557e-09, -3.406414877514729e-08, -3.27252997603267e-08, -1.6771988088344494e-09, -3.1724689871335644e-08, -0.0066278669582311356, -0.0038157816833876246, -9.991653247720326e-09, -2.8339431820753404e-08, -0.0038221310699512825, -0.002438254622260065, -9.12058316054559e-09, -1.3700170851065902e-09, -8.810818888793649e-09, -8.557512994576496e-09, -8.10212945925483e-10], [-2.0298437879745372e-09, -2.1660585008443143e-08, -2.0874663687488407e-08, -1.1089430390422057e-09, -2.0174337269140385e-08, -0.006103212632489787, -0.00383829190829039, -6.828579414406588e-09, -1.807633938604237e-08, -0.003844545745836358, -0.0026209856835962978, -6.239130088390028e-09, -9.048410968395261e-10, -6.013368701962748e-09, -5.849676556043712e-09, -5.503513260009092e-10], [-1.329710426477934e-09, -1.4216069916125011e-08, -1.3734012244913457e-08, -7.529320585637278e-10, -1.3241448095772771e-08, -0.0056262805069476375, -0.003857230767339497, -4.773729454610262e-09, -1.1892754741813977e-08, -0.003863287520504229, -0.002819878045192563, -4.364695124249619e-09, -6.137688377010695e-10, -4.198783443835534e-09, -4.0896189922704446e-09, -3.826965083243123e-10], [-8.956826287063757e-10, -9.590439551649045e-09, -9.283370685357888e-09, -5.232905707801222e-10, -8.933446623085156e-09, -0.005192187863154821, -0.0038725258915149677, -3.405006519408337e-09, -8.038811165884146e-09, -0.0038782829408185097, -0.0030365833545407577, -3.114848826970347e-09, -4.2621643762929666e-10, -2.9917127574188678e-09, -2.9168817582632333e-09, -2.7169410909996895e-10], [-6.182402582517016e-10, -6.628057276085482e-09, -6.4259390952505675e-09, -3.7129791933104636e-10, -6.174323158039295e-09, -0.00479660462858271, -0.0038841184584602006, -2.472771588490678e-09, -5.564531329727243e-09, -0.003889472863824954, -0.003272945116893354, -2.2629013933286905e-09, -3.0219764493013736e-10, -2.170556653206295e-09, -2.118005499047123e-09, -1.9649127835932226e-10], [-4.3604508837311684e-10, -4.679652763902884e-09, -4.5427548695544985e-09, -2.683677057741335e-10, -4.359507869785576e-09, -0.004435685122327792, -0.0038919636610770664, -1.8250257275797643e-09, -3.933872814130676e-09, -0.0038968129400391077, -0.003531023686416224, -1.6705791327309474e-09, -2.1828099579442065e-10, -1.6006001947819694e-09, -1.5628983147387508e-09, -1.4448394304002312e-10], [-3.1350563513310735e-10, -3.3675081237764013e-09, -3.272426348947999e-09, -1.9721885385537808e-10, -3.1372676550489524e-09, -0.0041060088917689135, -0.003896031066825264, -1.3667813206874229e-09, -2.833883581972061e-09, -0.0039002739781705837, -0.003813124865290553, -1.2513474610823266e-09, -1.6031766174279455e-10, -1.1977751338401932e-09, -1.170208178523402e-09, -1.078463983554554e-10]]\n"
     ]
    }
   ],
   "source": [
    "#print energies\n",
    "#print(\"The Potential energy at each step is: \",U)\n",
    "#print(\"The Kinetic energy at each step is: \", K) \n",
    "print(\"The Total Energy at each step is: \", K + U)"
   ]
  },
  {
   "cell_type": "code",
   "execution_count": 67,
   "metadata": {},
   "outputs": [
    {
     "data": {
      "image/png": "[encoded data removed]",
      "text/plain": [
       "<Figure size 432x288 with 1 Axes>"
      ]
     },
     "metadata": {
      "needs_background": "light"
     },
     "output_type": "display_data"
    }
   ],
   "source": [
    "#for i in range(N):\n",
    "    #print(len(T[:16]), len(np.add(U, K)[1][i]))\n",
    "for i in range (2,N):    \n",
    "    plt.plot(T[i], np.add(U, K)[i][2], \".\")\n",
    "    plt.ylim(10000, 1.3e4)\n",
    "    plt.title(\"Total Energies for Each Particle\", fontsize = 16)\n",
    "    plt.ylabel(\"Energy (J)\", fontsize = 14)\n",
    "    plt.xlabel(\"Time(s)\", fontsize = 14)"
   ]
  },
  {
   "cell_type": "markdown",
   "metadata": {},
   "source": [
    "PART C"
   ]
  },
  {
   "cell_type": "code",
   "execution_count": null,
   "metadata": {},
   "outputs": [],
   "source": []
  }
 ],
 "metadata": {
  "kernelspec": {
   "display_name": "Python 3",
   "language": "python",
   "name": "python3"
  },
  "language_info": {
   "codemirror_mode": {
    "name": "ipython",
    "version": 3
   },
   "file_extension": ".py",
   "mimetype": "text/x-python",
   "name": "python",
   "nbconvert_exporter": "python",
   "pygments_lexer": "ipython3",
   "version": "3.8.3"
  }
 },
 "nbformat": 4,
 "nbformat_minor": 4
}
